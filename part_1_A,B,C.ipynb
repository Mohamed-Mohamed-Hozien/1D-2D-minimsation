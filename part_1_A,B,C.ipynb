{
 "cells": [
  {
   "cell_type": "markdown",
   "metadata": {},
   "source": [
    "# Imports"
   ]
  },
  {
   "cell_type": "code",
   "execution_count": 5,
   "metadata": {},
   "outputs": [],
   "source": [
    "import time\n",
    "from quasi_newton_method import quasi_newton_method_1D\n",
    "from secant_method import secant_method_1D\n",
    "import numpy as np\n",
    "from Rosenbrok_Powell import rosenbrock_grad, powell_quartic_grad, powell_quartic_1d, powell_quartic_1d_grad, rosenbrock_1d, rosenbrock_1d_grad\n",
    "import math\n",
    "import sympy as sp"
   ]
  },
  {
   "cell_type": "markdown",
   "metadata": {},
   "source": [
    "# Used in all problems"
   ]
  },
  {
   "cell_type": "code",
   "execution_count": 6,
   "metadata": {},
   "outputs": [],
   "source": [
    "a = 0\n",
    "b = 3\n",
    "interval = [a,b]\n",
    "EPSILON = 0.01\n",
    "benchMarks = {}"
   ]
  },
  {
   "cell_type": "markdown",
   "metadata": {},
   "source": [
    "# Fibonacci"
   ]
  },
  {
   "cell_type": "markdown",
   "metadata": {},
   "source": [
    "## Initialization"
   ]
  },
  {
   "cell_type": "code",
   "execution_count": 7,
   "metadata": {},
   "outputs": [
    {
     "data": {
      "text/plain": [
       "[1, 1, 2, 3, 5, 8, 13, 21, 34, 55, 89, 144, 233]"
      ]
     },
     "execution_count": 7,
     "metadata": {},
     "output_type": "execute_result"
    }
   ],
   "source": [
    "Fs = [1,1]\n",
    "maxFibonacciNumber = (interval[1]-interval[0])/EPSILON\n",
    "while Fs[-1] < maxFibonacciNumber:\n",
    "    Fs.append(Fs[-1] + Fs[-2])\n",
    "Fs.pop()\n",
    "Fs"
   ]
  },
  {
   "cell_type": "markdown",
   "metadata": {},
   "source": [
    "## Setting Initial points"
   ]
  },
  {
   "cell_type": "code",
   "execution_count": 8,
   "metadata": {},
   "outputs": [],
   "source": [
    "k = len(Fs)\n",
    "\n",
    "x1 = a + (Fs[k-3] / Fs[k-1]) * (b - a)\n",
    "x2 = a + (Fs[k-2] / Fs[k-1]) * (b - a)\n",
    "\n",
    "ITERATIONS = k - 2"
   ]
  },
  {
   "cell_type": "markdown",
   "metadata": {},
   "source": [
    "## Computing x1 and x2 in F(X)"
   ]
  },
  {
   "cell_type": "code",
   "execution_count": 9,
   "metadata": {},
   "outputs": [
    {
     "name": "stdout",
     "output_type": "stream",
     "text": [
      "[0, 1.854]\n",
      "[0.708, 1.854]\n",
      "[0.708, 1.416]\n",
      "[0.979, 1.416]\n",
      "[1.146, 1.416]\n",
      "[1.146, 1.313]\n",
      "[1.21, 1.313]\n",
      "[1.21, 1.273]\n",
      "[1.233, 1.273]\n",
      "[1.233, 1.257]\n",
      "[1.241, 1.257]\n"
     ]
    }
   ],
   "source": [
    "fibonacciStartTime = time.time()\n",
    "fibonacciIterations = 0\n",
    "for i in range(ITERATIONS):\n",
    "    fibonacciIterations+=1\n",
    "    newInterval = []\n",
    "    f_X1 = 2 * (x1)**2 - 5 * x1 + 3\n",
    "    f_X2 = 2 * (x2)**2 - 5 * x2 + 3\n",
    "    if f_X1 > f_X2:\n",
    "        a = x1\n",
    "        x1 = x2 \n",
    "        x2 = a+ (Fs[k-2]/Fs[k-1]) * (b-a)\n",
    "    else:\n",
    "        b = x2\n",
    "        x2 = x1\n",
    "        x1 = a + (Fs[k-3]/Fs[k-1]) * (b-a)\n",
    "    newInterval.append(round(a,3))\n",
    "    newInterval.append(round(b,3))\n",
    "    print(newInterval)\n",
    "    k-=1\n",
    "    if b-a <= EPSILON:\n",
    "        \n",
    "        break\n",
    "fibonacciEndTime = time.time()"
   ]
  },
  {
   "cell_type": "markdown",
   "metadata": {},
   "source": [
    "## Results"
   ]
  },
  {
   "cell_type": "code",
   "execution_count": 10,
   "metadata": {},
   "outputs": [
    {
     "name": "stdout",
     "output_type": "stream",
     "text": [
      "[1.241, 1.257]\n",
      "1.249\n",
      "-0.125\n"
     ]
    }
   ],
   "source": [
    "finalInterval = []\n",
    "finalInterval.append(round(a,3))\n",
    "finalInterval.append(round(b,3))\n",
    "print(finalInterval)\n",
    "fibonacciMinimum = (a+b) / 2\n",
    "print(round(fibonacciMinimum,3))\n",
    "fibonacciF_min = 2 * (fibonacciMinimum)**2 - 5 * fibonacciMinimum + 3\n",
    "print(round(fibonacciF_min,3))"
   ]
  },
  {
   "cell_type": "markdown",
   "metadata": {},
   "source": [
    "## Benchmark"
   ]
  },
  {
   "cell_type": "code",
   "execution_count": 11,
   "metadata": {},
   "outputs": [
    {
     "name": "stdout",
     "output_type": "stream",
     "text": [
      "Converged after 11 iterations!\n",
      "Taken: 0.0 Seconds\n"
     ]
    }
   ],
   "source": [
    "print(f\"Converged after {fibonacciIterations} iterations!\")\n",
    "fibonacciTakenTime = fibonacciEndTime - fibonacciStartTime\n",
    "print(f\"Taken: {round(fibonacciTakenTime,9)} Seconds\")"
   ]
  },
  {
   "cell_type": "markdown",
   "metadata": {},
   "source": [
    "## Adding to benchmark to compare later"
   ]
  },
  {
   "cell_type": "code",
   "execution_count": 12,
   "metadata": {},
   "outputs": [],
   "source": [
    "benchMarks[\"Fibonacci\"] = {\n",
    "                           \"Iterations\":fibonacciIterations,\n",
    "                           \"TimeTaken\": round(fibonacciTakenTime, 6),\n",
    "                           \"F\": round(fibonacciF_min, 3),\n",
    "                           \"X\": round(fibonacciMinimum, 3)\n",
    "                           }"
   ]
  },
  {
   "cell_type": "markdown",
   "metadata": {},
   "source": [
    "# Golden Section"
   ]
  },
  {
   "cell_type": "markdown",
   "metadata": {},
   "source": [
    "## Initialize interior Points"
   ]
  },
  {
   "cell_type": "code",
   "execution_count": 13,
   "metadata": {},
   "outputs": [],
   "source": [
    "GOLDENRATIO = (math.sqrt(5)-1) / 2\n",
    "x1 = a + (1-GOLDENRATIO) * (b - a)\n",
    "x2 = a + GOLDENRATIO * (b - a)"
   ]
  },
  {
   "cell_type": "markdown",
   "metadata": {},
   "source": [
    "## Substitute in function"
   ]
  },
  {
   "cell_type": "code",
   "execution_count": 14,
   "metadata": {},
   "outputs": [
    {
     "name": "stdout",
     "output_type": "stream",
     "text": [
      "[1.247, 1.257]\n"
     ]
    }
   ],
   "source": [
    "f_X1 = 2 * (x1)**2 - 5 * x1 + 3\n",
    "f_X2 = 2 * (x2)**2 - 5 * x2 + 3\n",
    "goldenStartTime = time.time()\n",
    "goldenIterations = 0\n",
    "while (b - a) > EPSILON:\n",
    "    goldenIterations+=1\n",
    "    currentInterval = []\n",
    "    if f_X1  < f_X2:\n",
    "        b = x2\n",
    "        x2 = x1\n",
    "        x1 = a + (1-GOLDENRATIO) * (b-a)\n",
    "    elif f_X1 > f_X2:\n",
    "        a = x1\n",
    "        x1 = x2\n",
    "        x2 = a + GOLDENRATIO * (b-a)\n",
    "    f_X1 = 2 * (x1)**2 - 5 * x1 + 3\n",
    "    f_X2 = 2 * (x2)**2 - 5 * x2 + 3\n",
    "    currentInterval.append(round(a,3))\n",
    "    currentInterval.append(round(b,3))\n",
    "    print(currentInterval)\n",
    "\n",
    "goldenEndTime = time.time()\n"
   ]
  },
  {
   "cell_type": "markdown",
   "metadata": {},
   "source": [
    "## Results"
   ]
  },
  {
   "cell_type": "code",
   "execution_count": 15,
   "metadata": {},
   "outputs": [
    {
     "name": "stdout",
     "output_type": "stream",
     "text": [
      "1.252\n",
      "-0.125\n"
     ]
    }
   ],
   "source": [
    "goldenMinimum = (a+b) / 2\n",
    "print(round(goldenMinimum,3))\n",
    "goldenF_min = 2 * (goldenMinimum)**2 - 5 * goldenMinimum + 3\n",
    "print(round(goldenF_min,3))"
   ]
  },
  {
   "cell_type": "markdown",
   "metadata": {},
   "source": [
    "## Benchmark"
   ]
  },
  {
   "cell_type": "code",
   "execution_count": 16,
   "metadata": {},
   "outputs": [
    {
     "name": "stdout",
     "output_type": "stream",
     "text": [
      "Converged after 1 iterations\n",
      "Taken: 0.0 Seconds\n"
     ]
    }
   ],
   "source": [
    "print(f\"Converged after {goldenIterations} iterations\")\n",
    "goldenTakenTime = goldenEndTime - goldenStartTime\n",
    "print(f\"Taken: {round(goldenTakenTime,9)} Seconds\")"
   ]
  },
  {
   "cell_type": "markdown",
   "metadata": {},
   "source": [
    "## Adding to benchmark to compare later"
   ]
  },
  {
   "cell_type": "code",
   "execution_count": 17,
   "metadata": {},
   "outputs": [],
   "source": [
    "benchMarks[\"Golden\"] = {\n",
    "                        \"Iterations\":goldenIterations,\n",
    "                        \"TimeTaken\": round(goldenTakenTime, 6),\n",
    "                        \"F\": round(goldenF_min, 3),\n",
    "                        \"X\": round(goldenMinimum, 3)\n",
    "                        }\n"
   ]
  },
  {
   "cell_type": "markdown",
   "metadata": {},
   "source": [
    "# Newton"
   ]
  },
  {
   "cell_type": "markdown",
   "metadata": {},
   "source": [
    "## Initial X and Computing 1st and 2nd derivatives"
   ]
  },
  {
   "cell_type": "code",
   "execution_count": 18,
   "metadata": {},
   "outputs": [],
   "source": [
    "xSymbol = sp.symbols('x')\n",
    "newtonF_x = 2 * (xSymbol)**2 - 5 * xSymbol + 3\n",
    "dF_x_1 = sp.diff(newtonF_x, xSymbol)\n",
    "dF_x_2 = sp.diff(dF_x_1, xSymbol)"
   ]
  },
  {
   "cell_type": "markdown",
   "metadata": {},
   "source": [
    "## Updating x"
   ]
  },
  {
   "cell_type": "code",
   "execution_count": 19,
   "metadata": {},
   "outputs": [
    {
     "name": "stdout",
     "output_type": "stream",
     "text": [
      "1.25\n"
     ]
    }
   ],
   "source": [
    "newtonX = 2\n",
    "newtonOldX = 0\n",
    "newtonIterations = 0\n",
    "# x = x - (dF_x_1/dF_x_2)\n",
    "newtonStartTime = time.time()\n",
    "while abs(newtonX-newtonOldX) > EPSILON:\n",
    "    newtonIterations+=1\n",
    "    dF_x_1_atx = dF_x_1.subs(xSymbol,newtonX)\n",
    "    dF_x_2_atx = dF_x_2.subs(xSymbol,newtonX)\n",
    "    newtonOldX = newtonX\n",
    "    newtonX = float(newtonX - (dF_x_1_atx/dF_x_2_atx))\n",
    "    print(newtonX)\n",
    "    if newtonX-newtonOldX < EPSILON:\n",
    "        \n",
    "        break\n",
    "    \n",
    "newtonEndTime = time.time()"
   ]
  },
  {
   "cell_type": "markdown",
   "metadata": {},
   "source": [
    "## Results"
   ]
  },
  {
   "cell_type": "code",
   "execution_count": 20,
   "metadata": {},
   "outputs": [
    {
     "name": "stdout",
     "output_type": "stream",
     "text": [
      "1.25\n",
      "-0.125\n"
     ]
    }
   ],
   "source": [
    "print(newtonX)\n",
    "newtonF_min = 2*(newtonX)**2 -5 * newtonX +3\n",
    "print(newtonF_min)"
   ]
  },
  {
   "cell_type": "markdown",
   "metadata": {},
   "source": [
    "## Benchmark"
   ]
  },
  {
   "cell_type": "code",
   "execution_count": 21,
   "metadata": {},
   "outputs": [
    {
     "name": "stdout",
     "output_type": "stream",
     "text": [
      "Converged after 1 iterations\n",
      "Taken: 0.0010020732879638672 Seconds\n"
     ]
    }
   ],
   "source": [
    "print(f\"Converged after {newtonIterations} iterations\")\n",
    "newtonTakenTime = newtonEndTime - newtonStartTime\n",
    "print(f\"Taken: {newtonTakenTime} Seconds\")"
   ]
  },
  {
   "cell_type": "markdown",
   "metadata": {},
   "source": [
    "## Adding to benchmark to compare later"
   ]
  },
  {
   "cell_type": "code",
   "execution_count": 22,
   "metadata": {},
   "outputs": [],
   "source": [
    "benchMarks[\"Newton\"] = {\n",
    "                        \"Iterations\":newtonIterations,\n",
    "                        \"TimeTaken\": round(newtonTakenTime, 6),\n",
    "                        \"F\": round(newtonF_min, 3),\n",
    "                        \"X\": round(newtonX, 3)\n",
    "                        }"
   ]
  },
  {
   "cell_type": "markdown",
   "metadata": {},
   "source": [
    "# Benchmarks for first three"
   ]
  },
  {
   "cell_type": "code",
   "execution_count": 23,
   "metadata": {},
   "outputs": [
    {
     "data": {
      "text/plain": [
       "{'Fibonacci': {'Iterations': 11, 'TimeTaken': 0.0, 'F': -0.125, 'X': 1.249},\n",
       " 'Golden': {'Iterations': 1, 'TimeTaken': 0.0, 'F': -0.125, 'X': 1.252},\n",
       " 'Newton': {'Iterations': 1, 'TimeTaken': 0.001002, 'F': -0.125, 'X': 1.25}}"
      ]
     },
     "execution_count": 23,
     "metadata": {},
     "output_type": "execute_result"
    }
   ],
   "source": [
    "benchMarks"
   ]
  },
  {
   "cell_type": "markdown",
   "metadata": {},
   "source": [
    "# Part 2 - Quasi-Newton and Secant Methods"
   ]
  },
  {
   "cell_type": "markdown",
   "metadata": {},
   "source": [
    "# Quasi-Newton Method (1D)"
   ]
  },
  {
   "cell_type": "code",
   "execution_count": 24,
   "metadata": {},
   "outputs": [],
   "source": [
    "def quasi_newton_method_1D(f, f_prime, x0, tol=1e-5, max_iter=1000):\n",
    "    \"\"\"Finds the minimizer using Quasi-Newton method (1D).\"\"\"\n",
    "    x = x0\n",
    "    iterations = 0\n",
    "    start_time = time.time()\n",
    "    h = 1e-5\n",
    "    # Approximate Hessian using finite difference\n",
    "    hessian = (f_prime(x + h) - f_prime(x))/h\n",
    "\n",
    "    while abs(f_prime(x)) > tol and iterations < max_iter:\n",
    "        x = x - f_prime(x) / hessian  # Update x based on approximated Hessian\n",
    "        iterations += 1\n",
    "    end_time = time.time()\n",
    "    cpu_time = end_time - start_time\n",
    "    return x, f(x), iterations, cpu_time"
   ]
  },
  {
   "cell_type": "markdown",
   "metadata": {},
   "source": [
    "# Secant Method (1D)"
   ]
  },
  {
   "cell_type": "code",
   "execution_count": 25,
   "metadata": {},
   "outputs": [],
   "source": [
    "def secant_method_1D(f, x0, x1, tol=1e-5, max_iter=1000):\n",
    "    \"\"\"Finds the minimizer using the Secant method (1D).\"\"\"\n",
    "    start_time = time.time()\n",
    "    x_prev = x0\n",
    "    x_curr = x1\n",
    "    iterations = 0\n",
    "    while abs(f(x_curr) - f(x_prev)) > tol and iterations < max_iter:\n",
    "\n",
    "        x_next = x_curr - f(x_curr) * (x_curr - x_prev) / \\\n",
    "            (f(x_curr) - f(x_prev))  # Secant formula\n",
    "        x_prev = x_curr\n",
    "        x_curr = x_next\n",
    "        iterations += 1\n",
    "    end_time = time.time()\n",
    "    cpu_time = end_time - start_time\n",
    "    return x_curr, f(x_curr), iterations, cpu_time"
   ]
  },
  {
   "cell_type": "markdown",
   "metadata": {},
   "source": [
    "# Benchmark Functions from Document"
   ]
  },
  {
   "cell_type": "markdown",
   "metadata": {},
   "source": [
    "### Rosenbrock's function and its gradient"
   ]
  },
  {
   "cell_type": "code",
   "execution_count": 26,
   "metadata": {},
   "outputs": [],
   "source": [
    "def rosenbrock(x):\n",
    "    return 100 * (x[1] - x[0]**2)**2 + (1 - x[0])**2\n",
    "\n",
    "\n",
    "def rosenbrock_grad(x):\n",
    "    return np.array([\n",
    "        -400 * x[0] * (x[1] - x[0]**2) - 2 * (1 - x[0]),\n",
    "        200 * (x[1] - x[0]**2)\n",
    "    ])"
   ]
  },
  {
   "cell_type": "markdown",
   "metadata": {},
   "source": [
    "### Powell's quartic function"
   ]
  },
  {
   "cell_type": "code",
   "execution_count": 27,
   "metadata": {},
   "outputs": [],
   "source": [
    "def powell_quartic(x):\n",
    "    return (x[0] + 10 * x[1])**2 + 5 * (x[2] - x[3])**2 + (x[1] - 2 * x[2])**4 + 10 * (x[0] - x[3])**4\n",
    "\n",
    "# For Powell's quartic, finding the gradient analytically is complex; let's use finite differences\n",
    "\n",
    "\n",
    "def powell_quartic_grad(x, h=1e-5):\n",
    "    grad = np.zeros_like(x)\n",
    "    for i in range(len(x)):\n",
    "        x_plus_h = x.copy()\n",
    "        x_plus_h[i] += h\n",
    "        grad[i] = (powell_quartic(x_plus_h) - powell_quartic(x)) / h\n",
    "    return grad"
   ]
  },
  {
   "cell_type": "markdown",
   "metadata": {},
   "source": [
    "### Function for 1D minimization with Line Search using Rosenbrock Function"
   ]
  },
  {
   "cell_type": "code",
   "execution_count": 28,
   "metadata": {},
   "outputs": [],
   "source": [
    "def rosenbrock_1d(x, d, alpha):\n",
    "    x_new = x + alpha*d\n",
    "    return rosenbrock(x_new)\n",
    "\n",
    "\n",
    "def rosenbrock_1d_grad(x, d, alpha):\n",
    "    h = 1e-5\n",
    "    return (rosenbrock_1d(x, d, alpha+h)-rosenbrock_1d(x, d, alpha))/h"
   ]
  },
  {
   "cell_type": "markdown",
   "metadata": {},
   "source": [
    "### Function for 1D minimization with Line Search using Powell's Function"
   ]
  },
  {
   "cell_type": "code",
   "execution_count": 29,
   "metadata": {},
   "outputs": [],
   "source": [
    "def powell_quartic_1d(x, d, alpha):\n",
    "    x_new = x + alpha*d\n",
    "    return powell_quartic(x_new)\n",
    "\n",
    "\n",
    "def powell_quartic_1d_grad(x, d, alpha):\n",
    "    h = 1e-5\n",
    "    return (powell_quartic_1d(x, d, alpha+h)-powell_quartic_1d(x, d, alpha))/h"
   ]
  },
  {
   "cell_type": "code",
   "execution_count": 30,
   "metadata": {},
   "outputs": [
    {
     "name": "stdout",
     "output_type": "stream",
     "text": [
      "\n",
      "-- Quasi-Newton Method --\n",
      "Optimal alpha: 0.0007830046366470301, f(x): 4.128804567900709, iterations: 18, CPU time: 0.0010006427764892578\n",
      "\n",
      "-- Secant Method --\n",
      "Optimal alpha: 0.012261706107240849, f(x): 0.19932179161009153, iterations: 400, CPU time: 0.005633115768432617\n",
      "\n",
      "--- Powell's Quartic Function ---\n",
      "\n",
      "-- Quasi-Newton Method --\n",
      "Optimal alpha: 0.003583798955555407, f(x): 30.83034739482649, iterations: 693, CPU time: 0.01974010467529297\n",
      "\n",
      "-- Secant Method --\n",
      "Optimal alpha: 0.0035764060670935975, f(x): 30.830704344591066, iterations: 76, CPU time: 0.0010340213775634766\n",
      "\n",
      "# --- Benchmarks for all Methods ---\n",
      "{'Fibonacci': {'Iterations': 11, 'TimeTaken': 0.0, 'F': -0.125, 'X': 1.249}, 'Golden': {'Iterations': 1, 'TimeTaken': 0.0, 'F': -0.125, 'X': 1.252}, 'Newton': {'Iterations': 1, 'TimeTaken': 0.001002, 'F': -0.125, 'X': 1.25}}\n"
     ]
    }
   ],
   "source": [
    "# Initial guess for Rosenbrock\n",
    "x0_rosen = np.array([-1.2, 1.0])\n",
    "\n",
    "# For 1D methods we need to perform Line Search\n",
    "# We need to find an descent direction vector d for 1D minimization\n",
    "# In this example, I will use d = -grad(x)\n",
    "d_rosen = -rosenbrock_grad(x0_rosen)\n",
    "\n",
    "# Let's run the methods for Line Search\n",
    "initial_alpha = 0.0\n",
    "initial_alpha_secant = 0.1\n",
    "\n",
    "print(\"\\n-- Quasi-Newton Method --\")\n",
    "min_alpha, min_val, iterations, cpu_time = quasi_newton_method_1D(lambda alpha: rosenbrock_1d(x0_rosen, d_rosen, alpha),\n",
    "                                                                  lambda alpha: rosenbrock_1d_grad(\n",
    "                                                                      x0_rosen, d_rosen, alpha),\n",
    "                                                                  initial_alpha)\n",
    "\n",
    "print(f\"Optimal alpha: {min_alpha}, f(x): {\n",
    "      min_val}, iterations: {iterations}, CPU time: {cpu_time}\")\n",
    "\n",
    "print(\"\\n-- Secant Method --\")\n",
    "min_alpha, min_val, iterations, cpu_time = secant_method_1D(lambda alpha: rosenbrock_1d(x0_rosen, d_rosen, alpha),\n",
    "                                                            initial_alpha, initial_alpha_secant)\n",
    "print(f\"Optimal alpha: {min_alpha}, f(x): {\n",
    "      min_val}, iterations: {iterations}, CPU time: {cpu_time}\")\n",
    "\n",
    "# --- Powell's Quartic Function ---\n",
    "print(\"\\n--- Powell's Quartic Function ---\")\n",
    "\n",
    "# Initial guess for Powell's quartic\n",
    "x0_powell = np.array([3.0, -1.0, 0.0, 1.0])\n",
    "\n",
    "# For 1D methods we need to perform Line Search\n",
    "# We need to find an descent direction vector d for 1D minimization\n",
    "# In this example, I will use d = -grad(x)\n",
    "d_powell = -powell_quartic_grad(x0_powell)\n",
    "\n",
    "# Let's run the methods for Line Search\n",
    "initial_alpha = 0.0\n",
    "initial_alpha_secant = 0.1\n",
    "\n",
    "print(\"\\n-- Quasi-Newton Method --\")\n",
    "min_alpha, min_val, iterations, cpu_time = quasi_newton_method_1D(lambda alpha: powell_quartic_1d(x0_powell, d_powell, alpha),\n",
    "                                                                  lambda alpha: powell_quartic_1d_grad(\n",
    "                                                                      x0_powell, d_powell, alpha),\n",
    "                                                                  initial_alpha)\n",
    "print(f\"Optimal alpha: {min_alpha}, f(x): {\n",
    "      min_val}, iterations: {iterations}, CPU time: {cpu_time}\")\n",
    "\n",
    "print(\"\\n-- Secant Method --\")\n",
    "min_alpha, min_val, iterations, cpu_time = secant_method_1D(lambda alpha: powell_quartic_1d(x0_powell, d_powell, alpha),\n",
    "                                                            initial_alpha, initial_alpha_secant)\n",
    "\n",
    "print(f\"Optimal alpha: {min_alpha}, f(x): {\n",
    "      min_val}, iterations: {iterations}, CPU time: {cpu_time}\")\n",
    "\n",
    "# --- Benchmarks for all ---\n",
    "print(\"\\n# --- Benchmarks for all Methods ---\")\n",
    "print(benchMarks)"
   ]
  }
 ],
 "metadata": {
  "kernelspec": {
   "display_name": "Python 3",
   "language": "python",
   "name": "python3"
  },
  "language_info": {
   "codemirror_mode": {
    "name": "ipython",
    "version": 3
   },
   "file_extension": ".py",
   "mimetype": "text/x-python",
   "name": "python",
   "nbconvert_exporter": "python",
   "pygments_lexer": "ipython3",
   "version": "3.12.6"
  }
 },
 "nbformat": 4,
 "nbformat_minor": 2
}
