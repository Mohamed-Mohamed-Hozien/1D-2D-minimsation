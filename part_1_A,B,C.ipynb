{
 "cells": [
  {
   "cell_type": "markdown",
   "metadata": {},
   "source": [
    "# Imports"
   ]
  },
  {
   "cell_type": "code",
   "execution_count": 94,
   "metadata": {},
   "outputs": [],
   "source": [
    "import math"
   ]
  },
  {
   "cell_type": "markdown",
   "metadata": {},
   "source": [
    "# A"
   ]
  },
  {
   "cell_type": "markdown",
   "metadata": {},
   "source": [
    "## Initialization"
   ]
  },
  {
   "cell_type": "code",
   "execution_count": 119,
   "metadata": {},
   "outputs": [
    {
     "data": {
      "text/plain": [
       "3"
      ]
     },
     "execution_count": 119,
     "metadata": {},
     "output_type": "execute_result"
    }
   ],
   "source": [
    "a = 0\n",
    "b = 3\n",
    "interval = [a,b]\n",
    "Fs = [1,1]\n",
    "EPSILON = 1\n",
    "length = (interval[1]-interval[0])/EPSILON\n",
    "while Fs[-1] < length:\n",
    "    Fs.append(Fs[-1] + Fs[-2])\n",
    "Fs.pop()"
   ]
  },
  {
   "cell_type": "markdown",
   "metadata": {},
   "source": [
    "## setting Initial points"
   ]
  },
  {
   "cell_type": "code",
   "execution_count": 120,
   "metadata": {},
   "outputs": [],
   "source": [
    "k = len(Fs)\n",
    "\n",
    "x1 = a + (Fs[k-3] / Fs[k-1]) * (b - a)\n",
    "x2 = a + (Fs[k-2] / Fs[k-1]) * (b - a)\n",
    "\n",
    "ITERATIONS = k - 2"
   ]
  },
  {
   "cell_type": "markdown",
   "metadata": {},
   "source": [
    "## Computing x1 and x2 in F(X)"
   ]
  },
  {
   "cell_type": "code",
   "execution_count": 121,
   "metadata": {},
   "outputs": [
    {
     "name": "stdout",
     "output_type": "stream",
     "text": [
      "[0, 1.5]\n"
     ]
    }
   ],
   "source": [
    "for i in range(ITERATIONS):\n",
    "    newInterval = []\n",
    "    f_X1 = 2 * (x1)**2 - 5 * x1 + 3\n",
    "    f_X2 = 2 * (x2)**2 - 5 * x2 + 3\n",
    "    if f_X1 > f_X2:\n",
    "        a = x1\n",
    "        x1 = x2 \n",
    "        x2 = a+ (Fs[k-2]/Fs[k-1]) * (b-a)\n",
    "    else:\n",
    "        b = x2\n",
    "        x2 = x1\n",
    "        x1 = a + (Fs[k-3]/Fs[k-1]) * (b-a)\n",
    "    newInterval.append(a)\n",
    "    newInterval.append(b)\n",
    "    print(newInterval)\n",
    "    k-=1"
   ]
  },
  {
   "cell_type": "markdown",
   "metadata": {},
   "source": [
    "## Results"
   ]
  },
  {
   "cell_type": "code",
   "execution_count": 122,
   "metadata": {},
   "outputs": [
    {
     "name": "stdout",
     "output_type": "stream",
     "text": [
      "[0, 1.5]\n",
      "0.75\n",
      "0.375\n"
     ]
    }
   ],
   "source": [
    "finalInterval = []\n",
    "finalInterval.append(a)\n",
    "finalInterval.append(b)\n",
    "print(finalInterval)\n",
    "minimum = (a+b) / 2\n",
    "print(minimum)\n",
    "f_min = 2 * (minimum)**2 - 5 * minimum + 3\n",
    "print(f_min)"
   ]
  },
  {
   "cell_type": "markdown",
   "metadata": {},
   "source": [
    "# B"
   ]
  },
  {
   "cell_type": "code",
   "execution_count": 112,
   "metadata": {},
   "outputs": [],
   "source": [
    "a = 0\n",
    "b = 3\n",
    "interval = [a,b]\n",
    "EPSILON = 0.01\n",
    "GOLDENRATIO = (math.sqrt(5)-1) / 2"
   ]
  },
  {
   "cell_type": "markdown",
   "metadata": {},
   "source": [
    "## Initialize interior Points"
   ]
  },
  {
   "cell_type": "code",
   "execution_count": 113,
   "metadata": {},
   "outputs": [],
   "source": [
    "x1 = a + (1-GOLDENRATIO) * (b - a)\n",
    "x2 = a + GOLDENRATIO * (b - a)"
   ]
  },
  {
   "cell_type": "markdown",
   "metadata": {},
   "source": [
    "## Substitute in function"
   ]
  },
  {
   "cell_type": "code",
   "execution_count": 114,
   "metadata": {},
   "outputs": [
    {
     "name": "stdout",
     "output_type": "stream",
     "text": [
      "[0, 1.8541019662496847]\n",
      "[0.7082039324993691, 1.8541019662496847]\n",
      "[0.7082039324993691, 1.4164078649987384]\n",
      "[0.9787137637477918, 1.4164078649987384]\n",
      "[1.1458980337503153, 1.4164078649987384]\n",
      "[1.1458980337503153, 1.3130823037528392]\n",
      "[1.20975674250694, 1.3130823037528392]\n",
      "[1.20975674250694, 1.2736154512635647]\n",
      "[1.2341485987742902, 1.2736154512635647]\n",
      "[1.2341485987742902, 1.2585404550416401]\n",
      "[1.2434654588197158, 1.2585404550416401]\n",
      "[1.2434654588197158, 1.2527823188651412]\n",
      "1.2481238888424286\n",
      "-0.12499296041384866\n"
     ]
    }
   ],
   "source": [
    "f_X1 = 2 * (x1)**2 - 5 * x1 + 3\n",
    "f_X2 = 2 * (x2)**2 - 5 * x2 + 3\n",
    "while (b - a) > EPSILON:\n",
    "    currentInterval = []\n",
    "    if f_X1  < f_X2:\n",
    "        b = x2\n",
    "        x2 = x1\n",
    "        x1 = a + (1-GOLDENRATIO) * (b-a)\n",
    "    elif f_X1 > f_X2:\n",
    "        a = x1\n",
    "        x1 = x2\n",
    "        x2 = a + GOLDENRATIO * (b-a)\n",
    "    f_X1 = 2 * (x1)**2 - 5 * x1 + 3\n",
    "    f_X2 = 2 * (x2)**2 - 5 * x2 + 3\n",
    "    currentInterval.append(a)\n",
    "    currentInterval.append(b)\n",
    "    print(currentInterval)\n",
    "minimum = (a+b) / 2\n",
    "print(minimum)\n",
    "f_min = 2 * (minimum)**2 - 5 * minimum + 3\n",
    "print(f_min)"
   ]
  },
  {
   "cell_type": "markdown",
   "metadata": {},
   "source": [
    "# C"
   ]
  },
  {
   "cell_type": "code",
   "execution_count": null,
   "metadata": {},
   "outputs": [],
   "source": []
  }
 ],
 "metadata": {
  "kernelspec": {
   "display_name": "Python 3",
   "language": "python",
   "name": "python3"
  },
  "language_info": {
   "codemirror_mode": {
    "name": "ipython",
    "version": 3
   },
   "file_extension": ".py",
   "mimetype": "text/x-python",
   "name": "python",
   "nbconvert_exporter": "python",
   "pygments_lexer": "ipython3",
   "version": "3.13.1"
  }
 },
 "nbformat": 4,
 "nbformat_minor": 2
}
