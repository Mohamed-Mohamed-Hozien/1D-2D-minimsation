{
 "cells": [
  {
   "cell_type": "markdown",
   "metadata": {},
   "source": [
    "# Imports"
   ]
  },
  {
   "cell_type": "code",
   "execution_count": 32,
   "metadata": {},
   "outputs": [],
   "source": [
    "import time\n",
    "from quasi_newton_method import quasi_newton_method_1D\n",
    "from secant_method import secant_method_1D\n",
    "import numpy as np\n",
    "from Rosenbrok_Powell import rosenbrock_grad, powell_quartic_grad, powell_quartic_1d, powell_quartic_1d_grad, rosenbrock_1d, rosenbrock_1d_grad\n",
    "import math\n",
    "import sympy as sp"
   ]
  },
  {
   "cell_type": "markdown",
   "metadata": {},
   "source": [
    "# Helper functions & constants"
   ]
  },
  {
   "cell_type": "markdown",
   "metadata": {},
   "source": [
    "### Constants"
   ]
  },
  {
   "cell_type": "code",
   "execution_count": 33,
   "metadata": {},
   "outputs": [],
   "source": [
    "a = 0\n",
    "b = 3\n",
    "interval = [a,b]\n",
    "EPSILON = 0.01\n",
    "benchMarks = {}"
   ]
  },
  {
   "cell_type": "markdown",
   "metadata": {},
   "source": [
    "### Functions"
   ]
  },
  {
   "cell_type": "code",
   "execution_count": 34,
   "metadata": {},
   "outputs": [],
   "source": [
    "def approximate_gradient(func, x, h=1e-5):\n",
    "    \"\"\"Approximates the gradient of a function using finite differences.\"\"\"\n",
    "    grad = np.zeros_like(x, dtype=float)  # Ensure float type\n",
    "    for i in range(len(x)):\n",
    "        x_plus_h = x.copy()\n",
    "        x_plus_h[i] += h\n",
    "        grad[i] = (func(x_plus_h) - func(x)) / h\n",
    "    return grad"
   ]
  },
  {
   "cell_type": "code",
   "execution_count": 35,
   "metadata": {},
   "outputs": [],
   "source": [
    "# 1D minimization problem\n",
    "def f_1d_problem(x):\n",
    "    return 2 * (x)**2 - 5 * x + 3"
   ]
  },
  {
   "cell_type": "markdown",
   "metadata": {},
   "source": [
    "# Fibonacci"
   ]
  },
  {
   "cell_type": "markdown",
   "metadata": {},
   "source": [
    "## Initialization"
   ]
  },
  {
   "cell_type": "code",
   "execution_count": 36,
   "metadata": {},
   "outputs": [
    {
     "data": {
      "text/plain": [
       "[1, 1, 2, 3, 5, 8, 13, 21, 34, 55, 89, 144, 233]"
      ]
     },
     "execution_count": 36,
     "metadata": {},
     "output_type": "execute_result"
    }
   ],
   "source": [
    "Fs = [1,1]\n",
    "maxFibonacciNumber = (interval[1]-interval[0])/EPSILON\n",
    "while Fs[-1] < maxFibonacciNumber:\n",
    "    Fs.append(Fs[-1] + Fs[-2])\n",
    "Fs.pop()\n",
    "Fs"
   ]
  },
  {
   "cell_type": "markdown",
   "metadata": {},
   "source": [
    "## Setting Initial points"
   ]
  },
  {
   "cell_type": "code",
   "execution_count": 37,
   "metadata": {},
   "outputs": [],
   "source": [
    "k = len(Fs)\n",
    "\n",
    "x1 = a + (Fs[k-3] / Fs[k-1]) * (b - a)\n",
    "x2 = a + (Fs[k-2] / Fs[k-1]) * (b - a)\n",
    "\n",
    "ITERATIONS = k - 2"
   ]
  },
  {
   "cell_type": "markdown",
   "metadata": {},
   "source": [
    "## Computing x1 and x2 in F(X)"
   ]
  },
  {
   "cell_type": "code",
   "execution_count": 38,
   "metadata": {},
   "outputs": [
    {
     "name": "stdout",
     "output_type": "stream",
     "text": [
      "[0, 1.854]\n",
      "[0.708, 1.854]\n",
      "[0.708, 1.416]\n",
      "[0.979, 1.416]\n",
      "[1.146, 1.416]\n",
      "[1.146, 1.313]\n",
      "[1.21, 1.313]\n",
      "[1.21, 1.273]\n",
      "[1.233, 1.273]\n",
      "[1.233, 1.257]\n",
      "[1.241, 1.257]\n"
     ]
    }
   ],
   "source": [
    "fibonacciStartTime = time.time()\n",
    "fibonacciIterations = 0\n",
    "for i in range(ITERATIONS):\n",
    "    fibonacciIterations+=1\n",
    "    newInterval = []\n",
    "    f_X1 = 2 * (x1)**2 - 5 * x1 + 3\n",
    "    f_X2 = 2 * (x2)**2 - 5 * x2 + 3\n",
    "    if f_X1 > f_X2:\n",
    "        a = x1\n",
    "        x1 = x2 \n",
    "        x2 = a+ (Fs[k-2]/Fs[k-1]) * (b-a)\n",
    "    else:\n",
    "        b = x2\n",
    "        x2 = x1\n",
    "        x1 = a + (Fs[k-3]/Fs[k-1]) * (b-a)\n",
    "    newInterval.append(round(a,3))\n",
    "    newInterval.append(round(b,3))\n",
    "    print(newInterval)\n",
    "    k-=1\n",
    "    if b-a <= EPSILON:\n",
    "        \n",
    "        break\n",
    "fibonacciEndTime = time.time()"
   ]
  },
  {
   "cell_type": "markdown",
   "metadata": {},
   "source": [
    "## Results"
   ]
  },
  {
   "cell_type": "code",
   "execution_count": 39,
   "metadata": {},
   "outputs": [
    {
     "name": "stdout",
     "output_type": "stream",
     "text": [
      "[1.241, 1.257]\n",
      "1.249\n",
      "-0.125\n"
     ]
    }
   ],
   "source": [
    "finalInterval = []\n",
    "finalInterval.append(round(a,3))\n",
    "finalInterval.append(round(b,3))\n",
    "print(finalInterval)\n",
    "fibonacciMinimum = (a+b) / 2\n",
    "print(round(fibonacciMinimum,3))\n",
    "fibonacciF_min = 2 * (fibonacciMinimum)**2 - 5 * fibonacciMinimum + 3\n",
    "print(round(fibonacciF_min,3))"
   ]
  },
  {
   "cell_type": "markdown",
   "metadata": {},
   "source": [
    "## Benchmark"
   ]
  },
  {
   "cell_type": "code",
   "execution_count": 40,
   "metadata": {},
   "outputs": [
    {
     "name": "stdout",
     "output_type": "stream",
     "text": [
      "Converged after 11 iterations!\n",
      "Taken: 0.000998735 Seconds\n"
     ]
    }
   ],
   "source": [
    "print(f\"Converged after {fibonacciIterations} iterations!\")\n",
    "fibonacciTakenTime = fibonacciEndTime - fibonacciStartTime\n",
    "print(f\"Taken: {round(fibonacciTakenTime,9)} Seconds\")"
   ]
  },
  {
   "cell_type": "markdown",
   "metadata": {},
   "source": [
    "## Adding to benchmark to compare later"
   ]
  },
  {
   "cell_type": "code",
   "execution_count": 41,
   "metadata": {},
   "outputs": [],
   "source": [
    "benchMarks[\"Fibonacci\"] = {\n",
    "                           \"Iterations\":fibonacciIterations,\n",
    "                           \"TimeTaken\": round(fibonacciTakenTime, 6),\n",
    "                           \"F\": round(fibonacciF_min, 3),\n",
    "                           \"X\": round(fibonacciMinimum, 3)\n",
    "                           }"
   ]
  },
  {
   "cell_type": "markdown",
   "metadata": {},
   "source": [
    "# Golden Section"
   ]
  },
  {
   "cell_type": "markdown",
   "metadata": {},
   "source": [
    "## Initialize interior Points"
   ]
  },
  {
   "cell_type": "code",
   "execution_count": 42,
   "metadata": {},
   "outputs": [],
   "source": [
    "GOLDENRATIO = (math.sqrt(5)-1) / 2\n",
    "x1 = a + (1-GOLDENRATIO) * (b - a)\n",
    "x2 = a + GOLDENRATIO * (b - a)"
   ]
  },
  {
   "cell_type": "markdown",
   "metadata": {},
   "source": [
    "## Substitute in function"
   ]
  },
  {
   "cell_type": "code",
   "execution_count": 43,
   "metadata": {},
   "outputs": [
    {
     "name": "stdout",
     "output_type": "stream",
     "text": [
      "[1.247, 1.257]\n"
     ]
    }
   ],
   "source": [
    "f_X1 = 2 * (x1)**2 - 5 * x1 + 3\n",
    "f_X2 = 2 * (x2)**2 - 5 * x2 + 3\n",
    "goldenStartTime = time.time()\n",
    "goldenIterations = 0\n",
    "while (b - a) > EPSILON:\n",
    "    goldenIterations+=1\n",
    "    currentInterval = []\n",
    "    if f_X1  < f_X2:\n",
    "        b = x2\n",
    "        x2 = x1\n",
    "        x1 = a + (1-GOLDENRATIO) * (b-a)\n",
    "    elif f_X1 > f_X2:\n",
    "        a = x1\n",
    "        x1 = x2\n",
    "        x2 = a + GOLDENRATIO * (b-a)\n",
    "    f_X1 = 2 * (x1)**2 - 5 * x1 + 3\n",
    "    f_X2 = 2 * (x2)**2 - 5 * x2 + 3\n",
    "    currentInterval.append(round(a,3))\n",
    "    currentInterval.append(round(b,3))\n",
    "    print(currentInterval)\n",
    "\n",
    "goldenEndTime = time.time()\n"
   ]
  },
  {
   "cell_type": "markdown",
   "metadata": {},
   "source": [
    "## Results"
   ]
  },
  {
   "cell_type": "code",
   "execution_count": 44,
   "metadata": {},
   "outputs": [
    {
     "name": "stdout",
     "output_type": "stream",
     "text": [
      "1.252\n",
      "-0.125\n"
     ]
    }
   ],
   "source": [
    "goldenMinimum = (a+b) / 2\n",
    "print(round(goldenMinimum,3))\n",
    "goldenF_min = 2 * (goldenMinimum)**2 - 5 * goldenMinimum + 3\n",
    "print(round(goldenF_min,3))"
   ]
  },
  {
   "cell_type": "markdown",
   "metadata": {},
   "source": [
    "## Benchmark"
   ]
  },
  {
   "cell_type": "code",
   "execution_count": 45,
   "metadata": {},
   "outputs": [
    {
     "name": "stdout",
     "output_type": "stream",
     "text": [
      "Converged after 1 iterations\n",
      "Taken: 0.0 Seconds\n"
     ]
    }
   ],
   "source": [
    "print(f\"Converged after {goldenIterations} iterations\")\n",
    "goldenTakenTime = goldenEndTime - goldenStartTime\n",
    "print(f\"Taken: {round(goldenTakenTime,9)} Seconds\")"
   ]
  },
  {
   "cell_type": "markdown",
   "metadata": {},
   "source": [
    "## Adding to benchmark to compare later"
   ]
  },
  {
   "cell_type": "code",
   "execution_count": 46,
   "metadata": {},
   "outputs": [],
   "source": [
    "benchMarks[\"Golden\"] = {\n",
    "                        \"Iterations\":goldenIterations,\n",
    "                        \"TimeTaken\": round(goldenTakenTime, 6),\n",
    "                        \"F\": round(goldenF_min, 3),\n",
    "                        \"X\": round(goldenMinimum, 3)\n",
    "                        }\n"
   ]
  },
  {
   "cell_type": "markdown",
   "metadata": {},
   "source": [
    "# Newton"
   ]
  },
  {
   "cell_type": "markdown",
   "metadata": {},
   "source": [
    "## Initial X and Computing 1st and 2nd derivatives"
   ]
  },
  {
   "cell_type": "code",
   "execution_count": 47,
   "metadata": {},
   "outputs": [],
   "source": [
    "xSymbol = sp.symbols('x')\n",
    "newtonF_x = 2 * (xSymbol)**2 - 5 * xSymbol + 3\n",
    "dF_x_1 = sp.diff(newtonF_x, xSymbol)\n",
    "dF_x_2 = sp.diff(dF_x_1, xSymbol)"
   ]
  },
  {
   "cell_type": "markdown",
   "metadata": {},
   "source": [
    "## Updating x"
   ]
  },
  {
   "cell_type": "code",
   "execution_count": 48,
   "metadata": {},
   "outputs": [
    {
     "name": "stdout",
     "output_type": "stream",
     "text": [
      "1.25\n"
     ]
    }
   ],
   "source": [
    "newtonX = 2\n",
    "newtonOldX = 0\n",
    "newtonIterations = 0\n",
    "# x = x - (dF_x_1/dF_x_2)\n",
    "newtonStartTime = time.time()\n",
    "while abs(newtonX-newtonOldX) > EPSILON:\n",
    "    newtonIterations+=1\n",
    "    dF_x_1_atx = dF_x_1.subs(xSymbol,newtonX)\n",
    "    dF_x_2_atx = dF_x_2.subs(xSymbol,newtonX)\n",
    "    newtonOldX = newtonX\n",
    "    newtonX = float(newtonX - (dF_x_1_atx/dF_x_2_atx))\n",
    "    print(newtonX)\n",
    "    if newtonX-newtonOldX < EPSILON:\n",
    "        \n",
    "        break\n",
    "    \n",
    "newtonEndTime = time.time()"
   ]
  },
  {
   "cell_type": "markdown",
   "metadata": {},
   "source": [
    "## Results"
   ]
  },
  {
   "cell_type": "code",
   "execution_count": 49,
   "metadata": {},
   "outputs": [
    {
     "name": "stdout",
     "output_type": "stream",
     "text": [
      "1.25\n",
      "-0.125\n"
     ]
    }
   ],
   "source": [
    "print(newtonX)\n",
    "newtonF_min = 2*(newtonX)**2 -5 * newtonX +3\n",
    "print(newtonF_min)"
   ]
  },
  {
   "cell_type": "markdown",
   "metadata": {},
   "source": [
    "## Benchmark"
   ]
  },
  {
   "cell_type": "code",
   "execution_count": 50,
   "metadata": {},
   "outputs": [
    {
     "name": "stdout",
     "output_type": "stream",
     "text": [
      "Converged after 1 iterations\n",
      "Taken: 0.0 Seconds\n"
     ]
    }
   ],
   "source": [
    "print(f\"Converged after {newtonIterations} iterations\")\n",
    "newtonTakenTime = newtonEndTime - newtonStartTime\n",
    "print(f\"Taken: {newtonTakenTime} Seconds\")"
   ]
  },
  {
   "cell_type": "markdown",
   "metadata": {},
   "source": [
    "## Adding to benchmark to compare later"
   ]
  },
  {
   "cell_type": "code",
   "execution_count": 51,
   "metadata": {},
   "outputs": [],
   "source": [
    "benchMarks[\"Newton\"] = {\n",
    "                        \"Iterations\":newtonIterations,\n",
    "                        \"TimeTaken\": round(newtonTakenTime, 6),\n",
    "                        \"F\": round(newtonF_min, 3),\n",
    "                        \"X\": round(newtonX, 3)\n",
    "                        }"
   ]
  },
  {
   "cell_type": "code",
   "execution_count": 52,
   "metadata": {},
   "outputs": [
    {
     "data": {
      "text/plain": [
       "{'Fibonacci': {'Iterations': 11,\n",
       "  'TimeTaken': 0.000999,\n",
       "  'F': -0.125,\n",
       "  'X': 1.249},\n",
       " 'Golden': {'Iterations': 1, 'TimeTaken': 0.0, 'F': -0.125, 'X': 1.252},\n",
       " 'Newton': {'Iterations': 1, 'TimeTaken': 0.0, 'F': -0.125, 'X': 1.25}}"
      ]
     },
     "execution_count": 52,
     "metadata": {},
     "output_type": "execute_result"
    }
   ],
   "source": [
    "benchMarks"
   ]
  },
  {
   "cell_type": "markdown",
   "metadata": {},
   "source": [
    "# Refractoring Fibonacci, Golden Section and Newton methods into functions (Modularization)"
   ]
  },
  {
   "cell_type": "markdown",
   "metadata": {},
   "source": [
    "### Fibonacci"
   ]
  },
  {
   "cell_type": "code",
   "execution_count": 53,
   "metadata": {},
   "outputs": [],
   "source": [
    "def fibonacci_method_1d(f, interval, epsilon):\n",
    "    Fs = [1, 1]\n",
    "    max_fibonacci_number = (interval[1] - interval[0]) / epsilon\n",
    "    while Fs[-1] < max_fibonacci_number:\n",
    "        Fs.append(Fs[-1] + Fs[-2])\n",
    "    Fs.pop()\n",
    "    k = len(Fs)\n",
    "\n",
    "    a, b = interval\n",
    "    x1 = a + (Fs[k - 3] / Fs[k - 1]) * (b - a)\n",
    "    x2 = a + (Fs[k - 2] / Fs[k - 1]) * (b - a)\n",
    "\n",
    "    iterations = 0\n",
    "    start_time = time.time()\n",
    "    for i in range(k - 2):\n",
    "        iterations += 1\n",
    "        f_x1 = f(x1)\n",
    "        f_x2 = f(x2)\n",
    "        if f_x1 > f_x2:\n",
    "            a = x1\n",
    "            x1 = x2\n",
    "            x2 = a + (Fs[k - 2] / Fs[k - 1]) * (b - a)\n",
    "        else:\n",
    "            b = x2\n",
    "            x2 = x1\n",
    "            x1 = a + (Fs[k - 3] / Fs[k - 1]) * (b - a)\n",
    "        k -= 1\n",
    "        if b - a <= epsilon:\n",
    "            break\n",
    "    end_time = time.time()\n",
    "\n",
    "    minimum = (a + b) / 2\n",
    "    f_min = f(minimum)\n",
    "    cpu_time = end_time - start_time\n",
    "    return minimum, f_min, iterations, cpu_time"
   ]
  },
  {
   "cell_type": "markdown",
   "metadata": {},
   "source": [
    "### Golden Section"
   ]
  },
  {
   "cell_type": "code",
   "execution_count": 54,
   "metadata": {},
   "outputs": [],
   "source": [
    "def golden_section_method_1d(f, interval, epsilon):\n",
    "    golden_ratio = (math.sqrt(5) - 1) / 2\n",
    "    a, b = interval\n",
    "    x1 = a + (1 - golden_ratio) * (b - a)\n",
    "    x2 = a + golden_ratio * (b - a)\n",
    "\n",
    "    f_x1 = f(x1)\n",
    "    f_x2 = f(x2)\n",
    "\n",
    "    iterations = 0\n",
    "    start_time = time.time()\n",
    "    while (b - a) > epsilon:\n",
    "        iterations += 1\n",
    "        if f_x1 < f_x2:\n",
    "            b = x2\n",
    "            x2 = x1\n",
    "            x1 = a + (1 - golden_ratio) * (b - a)\n",
    "        elif f_x1 > f_x2:\n",
    "            a = x1\n",
    "            x1 = x2\n",
    "            x2 = a + golden_ratio * (b - a)\n",
    "        f_x1 = f(x1)\n",
    "        f_x2 = f(x2)\n",
    "\n",
    "    end_time = time.time()\n",
    "    minimum = (a + b) / 2\n",
    "    f_min = f(minimum)\n",
    "    cpu_time = end_time - start_time\n",
    "    return minimum, f_min, iterations, cpu_time"
   ]
  },
  {
   "cell_type": "markdown",
   "metadata": {},
   "source": [
    "### Newton"
   ]
  },
  {
   "cell_type": "code",
   "execution_count": 55,
   "metadata": {},
   "outputs": [],
   "source": [
    "def newtons_method_1d(f, f_prime, f_double_prime, x0, tol=1e-5, max_iter=1000):\n",
    "    x = x0\n",
    "    old_x = 0\n",
    "    iterations = 0\n",
    "    start_time = time.time()\n",
    "\n",
    "    while abs(x - old_x) > tol and iterations < max_iter:\n",
    "        iterations += 1\n",
    "        first_deriv = f_prime(x)\n",
    "        second_deriv = f_double_prime(x)\n",
    "        old_x = x\n",
    "        x = x - (first_deriv/second_deriv)\n",
    "    end_time = time.time()\n",
    "    f_min = f(x)\n",
    "    cpu_time = end_time - start_time\n",
    "    return x, f_min, iterations, cpu_time"
   ]
  },
  {
   "cell_type": "markdown",
   "metadata": {},
   "source": [
    "# Quasi-Newton Method (1D)"
   ]
  },
  {
   "cell_type": "code",
   "execution_count": 56,
   "metadata": {},
   "outputs": [],
   "source": [
    "def quasi_newton_method_1d(f, f_prime, x0, tol=1e-5, max_iter=1000, h=1e-5):\n",
    "    x = x0\n",
    "    iterations = 0\n",
    "    start_time = time.time()\n",
    "\n",
    "    # Approximate Hessian using finite difference\n",
    "    hessian = (f_prime(x + h) - f_prime(x))/h\n",
    "\n",
    "    while abs(f_prime(x)) > tol and iterations < max_iter:\n",
    "        x = x - f_prime(x) / hessian  # Update x based on approximated Hessian\n",
    "        iterations += 1\n",
    "    end_time = time.time()\n",
    "    cpu_time = end_time - start_time\n",
    "    return x, f(x), iterations, cpu_time"
   ]
  },
  {
   "cell_type": "markdown",
   "metadata": {},
   "source": [
    "# Secant Method (1D)"
   ]
  },
  {
   "cell_type": "code",
   "execution_count": 57,
   "metadata": {},
   "outputs": [],
   "source": [
    "def secant_method_1d(f, x0, x1, tol=1e-5, max_iter=1000):\n",
    "    start_time = time.time()\n",
    "    x_prev = x0\n",
    "    x_curr = x1\n",
    "    iterations = 0\n",
    "    while abs(f(x_curr) - f(x_prev)) > tol and iterations < max_iter:\n",
    "        x_next = x_curr - f(x_curr) * (x_curr - x_prev) / \\\n",
    "            (f(x_curr) - f(x_prev))  # Secant formula\n",
    "        x_prev = x_curr\n",
    "        x_curr = x_next\n",
    "        iterations += 1\n",
    "    end_time = time.time()\n",
    "    cpu_time = end_time - start_time\n",
    "    return x_curr, f(x_curr), iterations, cpu_time"
   ]
  },
  {
   "cell_type": "markdown",
   "metadata": {},
   "source": [
    "# Benchmark Functions"
   ]
  },
  {
   "cell_type": "markdown",
   "metadata": {},
   "source": [
    "### Rosenbrock's function and its gradient"
   ]
  },
  {
   "cell_type": "code",
   "execution_count": 58,
   "metadata": {},
   "outputs": [],
   "source": [
    "def rosenbrock(x):\n",
    "    return 100 * (x[1] - x[0]**2)**2 + (1 - x[0])**2\n",
    "\n",
    "\n",
    "def rosenbrock_grad(x):\n",
    "    return np.array([\n",
    "        -400 * x[0] * (x[1] - x[0]**2) - 2 * (1 - x[0]),\n",
    "        200 * (x[1] - x[0]**2)\n",
    "    ])"
   ]
  },
  {
   "cell_type": "markdown",
   "metadata": {},
   "source": [
    "### Powell's quartic function"
   ]
  },
  {
   "cell_type": "code",
   "execution_count": 59,
   "metadata": {},
   "outputs": [],
   "source": [
    "def powell_quartic(x):\n",
    "    return (x[0] + 10 * x[1])**2 + 5 * (x[2] - x[3])**2 + (x[1] - 2 * x[2])**4 + 10 * (x[0] - x[3])**4\n",
    "\n",
    "# For Powell's quartic, finding the gradient analytically is complex; let's use finite differences\n",
    "\n",
    "\n",
    "def powell_quartic_grad(x, h=1e-5):\n",
    "    grad = np.zeros_like(x)\n",
    "    for i in range(len(x)):\n",
    "        x_plus_h = x.copy()\n",
    "        x_plus_h[i] += h\n",
    "        grad[i] = (powell_quartic(x_plus_h) - powell_quartic(x)) / h\n",
    "    return grad"
   ]
  },
  {
   "cell_type": "markdown",
   "metadata": {},
   "source": [
    "### 1D minimization with Line Search using Rosenbrock Function"
   ]
  },
  {
   "cell_type": "code",
   "execution_count": 60,
   "metadata": {},
   "outputs": [],
   "source": [
    "def rosenbrock_1d(x, d, alpha):\n",
    "    x_new = x + alpha*d\n",
    "    return rosenbrock(x_new)\n",
    "\n",
    "\n",
    "def rosenbrock_1d_grad(x, d, alpha):\n",
    "    h = 1e-5\n",
    "    return (rosenbrock_1d(x, d, alpha+h)-rosenbrock_1d(x, d, alpha))/h"
   ]
  },
  {
   "cell_type": "markdown",
   "metadata": {},
   "source": [
    "### 1D minimization with Line Search using Powell's Function"
   ]
  },
  {
   "cell_type": "code",
   "execution_count": 61,
   "metadata": {},
   "outputs": [],
   "source": [
    "def powell_quartic_1d(x, d, alpha):\n",
    "    x_new = x + alpha*d\n",
    "    return powell_quartic(x_new)\n",
    "\n",
    "\n",
    "def powell_quartic_1d_grad(x, d, alpha):\n",
    "    h = 1e-5\n",
    "    return (powell_quartic_1d(x, d, alpha+h)-powell_quartic_1d(x, d, alpha))/h"
   ]
  },
  {
   "cell_type": "markdown",
   "metadata": {},
   "source": [
    "# Main"
   ]
  },
  {
   "cell_type": "code",
   "execution_count": 62,
   "metadata": {},
   "outputs": [],
   "source": [
    "bench_marks = {}"
   ]
  },
  {
   "cell_type": "markdown",
   "metadata": {},
   "source": [
    "## 1D Minimization Tests\n"
   ]
  },
  {
   "cell_type": "code",
   "execution_count": 83,
   "metadata": {},
   "outputs": [
    {
     "name": "stdout",
     "output_type": "stream",
     "text": [
      "--- 1D Minimization on f(x) = 2x^2 - 5x + 3 ---\n",
      "Fibonacci Method - Min: 1.249, f(min): -0.125, Iterations: 11, Time: 0.000000\n",
      "Golden Section Method - Min: 1.248, f(min): -0.125, Iterations: 12, Time: 0.000000\n",
      "Newton's Method - Min: 1.250, f(min): -0.125, Iterations: 2, Time: 0.000000\n"
     ]
    }
   ],
   "source": [
    "print(\"--- 1D Minimization on f(x) = 2x^2 - 5x + 3 ---\")\n",
    "# -- Fibonacci Method --\n",
    "minimum, f_min, iterations, cpu_time = fibonacci_method_1d(\n",
    "    f_1d_problem, interval, EPSILON)\n",
    "print(f\"Fibonacci Method - Min: {minimum:.3f}, f(min): {\n",
    "      f_min:.3f}, Iterations: {iterations}, Time: {cpu_time:.6f}\")\n",
    "bench_marks[\"Fibonacci\"] = {\"Iterations\": iterations, \"TimeTaken\": round(\n",
    "    cpu_time, 6), \"F\": round(f_min, 3), \"X\": round(minimum, 3)}\n",
    "\n",
    "# -- Golden Section Method --\n",
    "minimum, f_min, iterations, cpu_time = golden_section_method_1d(\n",
    "    f_1d_problem, interval, EPSILON)\n",
    "print(f\"Golden Section Method - Min: {minimum:.3f}, f(min): {\n",
    "      f_min:.3f}, Iterations: {iterations}, Time: {cpu_time:.6f}\")\n",
    "bench_marks[\"Golden\"] = {\"Iterations\": iterations, \"TimeTaken\": round(\n",
    "    cpu_time, 6), \"F\": round(f_min, 3), \"X\": round(minimum, 3)}\n",
    "\n",
    "# -- Newton's Method --\n",
    "xSymbol = sp.symbols('x')\n",
    "newtonF_x = 2 * (xSymbol)**2 - 5 * xSymbol + 3\n",
    "dF_x_1 = sp.lambdify(xSymbol, sp.diff(newtonF_x, xSymbol))\n",
    "dF_x_2 = sp.lambdify(xSymbol, sp.diff(\n",
    "    sp.diff(newtonF_x, xSymbol), xSymbol))\n",
    "\n",
    "minimum, f_min, iterations, cpu_time = newtons_method_1d(\n",
    "    f_1d_problem, dF_x_1, dF_x_2, 2, tol=EPSILON)\n",
    "print(f\"Newton's Method - Min: {minimum:.3f}, f(min): {\n",
    "      f_min:.3f}, Iterations: {iterations}, Time: {cpu_time:.6f}\")\n",
    "bench_marks[\"Newton\"] = {\"Iterations\": iterations, \"TimeTaken\": round(\n",
    "    cpu_time, 6), \"F\": round(f_min, 3), \"X\": round(minimum, 3)}"
   ]
  },
  {
   "cell_type": "markdown",
   "metadata": {},
   "source": [
    "## 2D Minimization with Line Search"
   ]
  },
  {
   "cell_type": "markdown",
   "metadata": {},
   "source": [
    "### Rosenbrock Function"
   ]
  },
  {
   "cell_type": "code",
   "execution_count": 85,
   "metadata": {},
   "outputs": [
    {
     "name": "stdout",
     "output_type": "stream",
     "text": [
      "\n",
      "--- 2D Minimization on Rosenbrock with Line Search ---\n",
      "Fibonacci (Rosenbrock) - Optimal alpha: 0.007957, f(x): 205.982138, Iterations: 11, CPU time: 0.001006\n",
      "Golden Section (Rosenbrock) - Optimal alpha: 0.010417, f(x): 67.724427, Iterations: 12, CPU time: 0.000000\n",
      "Quasi-Newton (Rosenbrock) - Optimal alpha: 0.000783, f(x): 4.128805, Iterations: 18, CPU time: 0.000000\n",
      "Secant (Rosenbrock)- Optimal alpha: 0.012262, f(x): 0.199322, Iterations: 400, CPU time: 0.004149\n",
      "Newton (Rosenbrock) - Optimal alpha: 0.022449, f(x): 10561.833050, Iterations: 12, Time: 0.000000\n"
     ]
    }
   ],
   "source": [
    "print(\"\\n--- 2D Minimization on Rosenbrock with Line Search ---\")\n",
    "x0_rosen = np.array([-1.2, 1.0], dtype=float)\n",
    "d_rosen = -rosenbrock_grad(x0_rosen)\n",
    "initial_alpha = 0.0\n",
    "initial_alpha_secant = 0.1\n",
    "interval_rosen = [0, 3]\n",
    "\n",
    "# Fibonacci\n",
    "min_alpha, min_val, iterations, cpu_time = fibonacci_method_1d(\n",
    "    lambda alpha: rosenbrock_1d(x0_rosen, d_rosen, alpha), interval_rosen, EPSILON)\n",
    "print(f\"Fibonacci (Rosenbrock) - Optimal alpha: {min_alpha:.6f}, f(x): {\n",
    "      min_val:.6f}, Iterations: {iterations}, CPU time: {cpu_time:.6f}\")\n",
    "\n",
    "# Golden Section\n",
    "min_alpha, min_val, iterations, cpu_time = golden_section_method_1d(\n",
    "    lambda alpha: rosenbrock_1d(x0_rosen, d_rosen, alpha), interval_rosen, EPSILON)\n",
    "print(f\"Golden Section (Rosenbrock) - Optimal alpha: {min_alpha:.6f}, f(x): {\n",
    "      min_val:.6f}, Iterations: {iterations}, CPU time: {cpu_time:.6f}\")\n",
    "\n",
    "# Quasi-Newton\n",
    "min_alpha, min_val, iterations, cpu_time = quasi_newton_method_1d(\n",
    "    lambda alpha: rosenbrock_1d(x0_rosen, d_rosen, alpha),\n",
    "    lambda alpha: rosenbrock_1d_grad(x0_rosen, d_rosen, alpha),\n",
    "    initial_alpha\n",
    ")\n",
    "print(f\"Quasi-Newton (Rosenbrock) - Optimal alpha: {min_alpha:.6f}, f(x): {\n",
    "      min_val:.6f}, Iterations: {iterations}, CPU time: {cpu_time:.6f}\")\n",
    "\n",
    "# Secant\n",
    "min_alpha, min_val, iterations, cpu_time = secant_method_1d(\n",
    "    lambda alpha: rosenbrock_1d(x0_rosen, d_rosen, alpha),\n",
    "    initial_alpha, initial_alpha_secant\n",
    ")\n",
    "print(f\"Secant (Rosenbrock)- Optimal alpha: {min_alpha:.6f}, f(x): {\n",
    "      min_val:.6f}, Iterations: {iterations}, CPU time: {cpu_time:.6f}\")\n",
    "\n",
    "# Newton\n",
    "xSymbol = sp.symbols('alpha')\n",
    "rosenbrock_x = rosenbrock_1d(x0_rosen, d_rosen, xSymbol)\n",
    "dF_x_1 = sp.lambdify(xSymbol, sp.diff(rosenbrock_x, xSymbol))\n",
    "dF_x_2 = sp.lambdify(xSymbol, sp.diff(\n",
    "    sp.diff(rosenbrock_x, xSymbol), xSymbol))\n",
    "\n",
    "min_alpha, min_val, iterations, cpu_time = newtons_method_1d(\n",
    "    lambda alpha: rosenbrock_1d(x0_rosen, d_rosen, alpha), dF_x_1, dF_x_2, 2, tol=EPSILON)\n",
    "print(f\"Newton (Rosenbrock) - Optimal alpha: {min_alpha:.6f}, f(x): {\n",
    "      min_val:.6f}, Iterations: {iterations}, Time: {cpu_time:.6f}\")"
   ]
  },
  {
   "cell_type": "markdown",
   "metadata": {},
   "source": [
    "### Powell's Quartic Function"
   ]
  },
  {
   "cell_type": "code",
   "execution_count": 86,
   "metadata": {},
   "outputs": [
    {
     "name": "stdout",
     "output_type": "stream",
     "text": [
      "\n",
      "--- 2D Minimization on Powell's Quartic with Line Search ---\n",
      "Fibonacci (Powell) - Optimal alpha: 0.007957, f(x): 772.643084, Iterations: 11, CPU time: 0.000000\n",
      "Golden Section (Powell) - Optimal alpha: 0.004658, f(x): 38.323281, Iterations: 12, CPU time: 0.000000\n",
      "Quasi-Newton (Powell) - Optimal alpha: 0.003584, f(x): 30.830347, Iterations: 693, CPU time: 0.007706\n",
      "Secant (Powell)- Optimal alpha: 0.003576, f(x): 30.830704, Iterations: 76, CPU time: 0.001992\n",
      "Newton (Powell) - Optimal alpha: 0.018627, f(x): 81001.037954, Iterations: 12, Time: 0.000000\n"
     ]
    }
   ],
   "source": [
    "print(\"\\n--- 2D Minimization on Powell's Quartic with Line Search ---\")\n",
    "x0_powell = np.array([3.0, -1.0, 0.0, 1.0], dtype=float)\n",
    "d_powell = -powell_quartic_grad(x0_powell)\n",
    "initial_alpha = 0.0\n",
    "initial_alpha_secant = 0.1\n",
    "interval_powell = [0, 3]\n",
    "\n",
    "# Fibonacci\n",
    "min_alpha, min_val, iterations, cpu_time = fibonacci_method_1d(\n",
    "    lambda alpha: powell_quartic_1d(x0_powell, d_powell, alpha), interval_powell, EPSILON)\n",
    "print(f\"Fibonacci (Powell) - Optimal alpha: {min_alpha:.6f}, f(x): {\n",
    "      min_val:.6f}, Iterations: {iterations}, CPU time: {cpu_time:.6f}\")\n",
    "\n",
    "# Golden Section\n",
    "min_alpha, min_val, iterations, cpu_time = golden_section_method_1d(\n",
    "    lambda alpha: powell_quartic_1d(x0_powell, d_powell, alpha), interval_powell, EPSILON)\n",
    "print(f\"Golden Section (Powell) - Optimal alpha: {min_alpha:.6f}, f(x): {\n",
    "      min_val:.6f}, Iterations: {iterations}, CPU time: {cpu_time:.6f}\")\n",
    "\n",
    "# Quasi-Newton\n",
    "min_alpha, min_val, iterations, cpu_time = quasi_newton_method_1d(\n",
    "    lambda alpha: powell_quartic_1d(x0_powell, d_powell, alpha),\n",
    "    lambda alpha: powell_quartic_1d_grad(x0_powell, d_powell, alpha),\n",
    "    initial_alpha\n",
    ")\n",
    "print(f\"Quasi-Newton (Powell) - Optimal alpha: {min_alpha:.6f}, f(x): {\n",
    "      min_val:.6f}, Iterations: {iterations}, CPU time: {cpu_time:.6f}\")\n",
    "\n",
    "# Secant\n",
    "min_alpha, min_val, iterations, cpu_time = secant_method_1d(\n",
    "    lambda alpha: powell_quartic_1d(x0_powell, d_powell, alpha),\n",
    "    initial_alpha, initial_alpha_secant\n",
    ")\n",
    "print(f\"Secant (Powell)- Optimal alpha: {min_alpha:.6f}, f(x): {\n",
    "      min_val:.6f}, Iterations: {iterations}, CPU time: {cpu_time:.6f}\")\n",
    "\n",
    "# Newton\n",
    "xSymbol = sp.symbols('alpha')\n",
    "powell_x = powell_quartic_1d(x0_powell, d_powell, xSymbol)\n",
    "dF_x_1 = sp.lambdify(xSymbol, sp.diff(powell_x, xSymbol))\n",
    "dF_x_2 = sp.lambdify(xSymbol, sp.diff(sp.diff(powell_x, xSymbol), xSymbol))\n",
    "\n",
    "min_alpha, min_val, iterations, cpu_time = newtons_method_1d(\n",
    "    lambda alpha: powell_quartic_1d(x0_powell, d_powell, alpha), dF_x_1, dF_x_2, 2, tol=EPSILON)\n",
    "print(f\"Newton (Powell) - Optimal alpha: {min_alpha:.6f}, f(x): {\n",
    "      min_val:.6f}, Iterations: {iterations}, Time: {cpu_time:.6f}\")"
   ]
  }
 ],
 "metadata": {
  "kernelspec": {
   "display_name": "Python 3",
   "language": "python",
   "name": "python3"
  },
  "language_info": {
   "codemirror_mode": {
    "name": "ipython",
    "version": 3
   },
   "file_extension": ".py",
   "mimetype": "text/x-python",
   "name": "python",
   "nbconvert_exporter": "python",
   "pygments_lexer": "ipython3",
   "version": "3.12.6"
  }
 },
 "nbformat": 4,
 "nbformat_minor": 2
}
