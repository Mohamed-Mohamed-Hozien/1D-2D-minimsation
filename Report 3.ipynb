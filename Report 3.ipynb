{
  "cells": [
    {
      "cell_type": "markdown",
      "metadata": {
        "id": "9ctQiznApPUH"
      },
      "source": [
        "# Imports"
      ]
    },
    {
      "cell_type": "code",
      "execution_count": 1,
      "metadata": {
        "id": "XztfAASIpPUH"
      },
      "outputs": [],
      "source": [
        "import time\n",
        "import numpy as np\n",
        "import math\n",
        "import sympy as sp"
      ]
    },
    {
      "cell_type": "markdown",
      "metadata": {
        "id": "1T4iZnP6pPUI"
      },
      "source": [
        "# Helper functions & constants"
      ]
    },
    {
      "cell_type": "markdown",
      "metadata": {
        "id": "0E356lAKpPUI"
      },
      "source": [
        "### Constants"
      ]
    },
    {
      "cell_type": "code",
      "execution_count": 2,
      "metadata": {
        "id": "UXcGrQQzpPUI"
      },
      "outputs": [],
      "source": [
        "a = 0\n",
        "b = 3\n",
        "interval = [a,b]\n",
        "EPSILON = 0.01\n",
        "benchMarks = {}"
      ]
    },
    {
      "cell_type": "markdown",
      "metadata": {
        "id": "Jz2c-mvKpPUI"
      },
      "source": [
        "### Functions"
      ]
    },
    {
      "cell_type": "code",
      "execution_count": 3,
      "metadata": {
        "id": "jJ3rSJippPUJ"
      },
      "outputs": [],
      "source": [
        "def approximate_gradient(func, x, h=1e-5):\n",
        "    \"\"\"Approximates the gradient of a function using finite differences.\"\"\"\n",
        "    grad = np.zeros_like(x, dtype=float)  # Ensure float type\n",
        "    for i in range(len(x)):\n",
        "        x_plus_h = x.copy()\n",
        "        x_plus_h[i] += h\n",
        "        grad[i] = (func(x_plus_h) - func(x)) / h\n",
        "    return grad"
      ]
    },
    {
      "cell_type": "code",
      "execution_count": 4,
      "metadata": {
        "id": "NF8Z66wzpPUJ"
      },
      "outputs": [],
      "source": [
        "# 1D minimization problem\n",
        "def f_1d_problem(x):\n",
        "    return 2 * (x)**2 - 5 * x + 3"
      ]
    },
    {
      "cell_type": "markdown",
      "metadata": {
        "id": "EFLLw1OFpPUJ"
      },
      "source": [
        "# Fibonacci"
      ]
    },
    {
      "cell_type": "markdown",
      "metadata": {
        "id": "ywLenBNfpPUJ"
      },
      "source": [
        "## Initialization"
      ]
    },
    {
      "cell_type": "code",
      "execution_count": 5,
      "metadata": {
        "colab": {
          "base_uri": "https://localhost:8080/"
        },
        "id": "8r39ZZi9pPUJ",
        "outputId": "dc266ba6-5c43-473b-925a-b5bbc58e8584"
      },
      "outputs": [
        {
          "data": {
            "text/plain": [
              "[1, 1, 2, 3, 5, 8, 13, 21, 34, 55, 89, 144, 233]"
            ]
          },
          "execution_count": 5,
          "metadata": {},
          "output_type": "execute_result"
        }
      ],
      "source": [
        "Fs = [1,1]\n",
        "maxFibonacciNumber = (interval[1]-interval[0])/EPSILON\n",
        "while Fs[-1] < maxFibonacciNumber:\n",
        "    Fs.append(Fs[-1] + Fs[-2])\n",
        "Fs.pop()\n",
        "Fs"
      ]
    },
    {
      "cell_type": "markdown",
      "metadata": {
        "id": "KlPrsGSwpPUJ"
      },
      "source": [
        "## Setting Initial points"
      ]
    },
    {
      "cell_type": "code",
      "execution_count": 6,
      "metadata": {
        "id": "AqH9tZQlpPUJ"
      },
      "outputs": [],
      "source": [
        "k = len(Fs)\n",
        "\n",
        "x1 = a + (Fs[k-3] / Fs[k-1]) * (b - a)\n",
        "x2 = a + (Fs[k-2] / Fs[k-1]) * (b - a)\n",
        "\n",
        "ITERATIONS = k - 2"
      ]
    },
    {
      "cell_type": "markdown",
      "metadata": {
        "id": "JQdjsO9BpPUJ"
      },
      "source": [
        "## Computing x1 and x2 in F(X)"
      ]
    },
    {
      "cell_type": "code",
      "execution_count": 7,
      "metadata": {
        "colab": {
          "base_uri": "https://localhost:8080/"
        },
        "id": "g7hgdse0pPUJ",
        "outputId": "f7420163-0e3a-4786-917a-2d3016e4d8b5"
      },
      "outputs": [
        {
          "name": "stdout",
          "output_type": "stream",
          "text": [
            "[0, 1.854]\n",
            "[0.708, 1.854]\n",
            "[0.708, 1.416]\n",
            "[0.979, 1.416]\n",
            "[1.146, 1.416]\n",
            "[1.146, 1.313]\n",
            "[1.21, 1.313]\n",
            "[1.21, 1.273]\n",
            "[1.233, 1.273]\n",
            "[1.233, 1.257]\n",
            "[1.241, 1.257]\n"
          ]
        }
      ],
      "source": [
        "fibonacciStartTime = time.time()\n",
        "fibonacciIterations = 0\n",
        "for i in range(ITERATIONS):\n",
        "    fibonacciIterations+=1\n",
        "    newInterval = []\n",
        "    f_X1 = 2 * (x1)**2 - 5 * x1 + 3\n",
        "    f_X2 = 2 * (x2)**2 - 5 * x2 + 3\n",
        "    if f_X1 > f_X2:\n",
        "        a = x1\n",
        "        x1 = x2\n",
        "        x2 = a+ (Fs[k-2]/Fs[k-1]) * (b-a)\n",
        "    else:\n",
        "        b = x2\n",
        "        x2 = x1\n",
        "        x1 = a + (Fs[k-3]/Fs[k-1]) * (b-a)\n",
        "    newInterval.append(round(a,3))\n",
        "    newInterval.append(round(b,3))\n",
        "    print(newInterval)\n",
        "    k-=1\n",
        "    if b-a <= EPSILON:\n",
        "\n",
        "        break\n",
        "fibonacciEndTime = time.time()"
      ]
    },
    {
      "cell_type": "markdown",
      "metadata": {
        "id": "bkijAfxlpPUK"
      },
      "source": [
        "## Results"
      ]
    },
    {
      "cell_type": "code",
      "execution_count": 8,
      "metadata": {
        "colab": {
          "base_uri": "https://localhost:8080/"
        },
        "id": "hAChHxvtpPUK",
        "outputId": "fae18647-6f22-4f89-f591-e66526f7798a"
      },
      "outputs": [
        {
          "name": "stdout",
          "output_type": "stream",
          "text": [
            "[1.241, 1.257]\n",
            "1.249\n",
            "-0.125\n"
          ]
        }
      ],
      "source": [
        "finalInterval = []\n",
        "finalInterval.append(round(a,3))\n",
        "finalInterval.append(round(b,3))\n",
        "print(finalInterval)\n",
        "fibonacciMinimum = (a+b) / 2\n",
        "print(round(fibonacciMinimum,3))\n",
        "fibonacciF_min = 2 * (fibonacciMinimum)**2 - 5 * fibonacciMinimum + 3\n",
        "print(round(fibonacciF_min,3))"
      ]
    },
    {
      "cell_type": "markdown",
      "metadata": {
        "id": "Shd1DHLbpPUK"
      },
      "source": [
        "## Benchmark"
      ]
    },
    {
      "cell_type": "code",
      "execution_count": 9,
      "metadata": {
        "colab": {
          "base_uri": "https://localhost:8080/"
        },
        "id": "TZeALQK9pPUK",
        "outputId": "d69a8435-bfff-4e22-acd5-9b9a0c187287"
      },
      "outputs": [
        {
          "name": "stdout",
          "output_type": "stream",
          "text": [
            "Converged after 11 iterations!\n",
            "Taken: 0.000999928 Seconds\n"
          ]
        }
      ],
      "source": [
        "print(f\"Converged after {fibonacciIterations} iterations!\")\n",
        "fibonacciTakenTime = fibonacciEndTime - fibonacciStartTime\n",
        "print(f\"Taken: {round(fibonacciTakenTime,9)} Seconds\")"
      ]
    },
    {
      "cell_type": "markdown",
      "metadata": {
        "id": "oWa9ofZPpPUK"
      },
      "source": [
        "## Adding to benchmark to compare later"
      ]
    },
    {
      "cell_type": "code",
      "execution_count": 10,
      "metadata": {
        "id": "VImND6JkpPUK"
      },
      "outputs": [],
      "source": [
        "benchMarks[\"Fibonacci\"] = {\n",
        "                           \"Iterations\":fibonacciIterations,\n",
        "                           \"TimeTaken\": round(fibonacciTakenTime, 6),\n",
        "                           \"F\": round(fibonacciF_min, 3),\n",
        "                           \"X\": round(fibonacciMinimum, 3)\n",
        "                           }"
      ]
    },
    {
      "cell_type": "markdown",
      "metadata": {
        "id": "MjRPSNh4pPUK"
      },
      "source": [
        "# Golden Section"
      ]
    },
    {
      "cell_type": "markdown",
      "metadata": {
        "id": "phGfStVmpPUK"
      },
      "source": [
        "## Initialize interior Points"
      ]
    },
    {
      "cell_type": "code",
      "execution_count": 11,
      "metadata": {
        "id": "57vhOBKmpPUK"
      },
      "outputs": [],
      "source": [
        "GOLDENRATIO = (math.sqrt(5)-1) / 2\n",
        "x1 = a + (1-GOLDENRATIO) * (b - a)\n",
        "x2 = a + GOLDENRATIO * (b - a)"
      ]
    },
    {
      "cell_type": "markdown",
      "metadata": {
        "id": "f07L2kWkpPUK"
      },
      "source": [
        "## Substitute in function"
      ]
    },
    {
      "cell_type": "code",
      "execution_count": 12,
      "metadata": {
        "colab": {
          "base_uri": "https://localhost:8080/"
        },
        "id": "ihWCE4WmpPUK",
        "outputId": "dcf75708-2170-47b2-ea9c-73aa79af95c0"
      },
      "outputs": [
        {
          "name": "stdout",
          "output_type": "stream",
          "text": [
            "[1.247, 1.257]\n"
          ]
        }
      ],
      "source": [
        "f_X1 = 2 * (x1)**2 - 5 * x1 + 3\n",
        "f_X2 = 2 * (x2)**2 - 5 * x2 + 3\n",
        "goldenStartTime = time.time()\n",
        "goldenIterations = 0\n",
        "while (b - a) > EPSILON:\n",
        "    goldenIterations+=1\n",
        "    currentInterval = []\n",
        "    if f_X1  < f_X2:\n",
        "        b = x2\n",
        "        x2 = x1\n",
        "        x1 = a + (1-GOLDENRATIO) * (b-a)\n",
        "    elif f_X1 > f_X2:\n",
        "        a = x1\n",
        "        x1 = x2\n",
        "        x2 = a + GOLDENRATIO * (b-a)\n",
        "    f_X1 = 2 * (x1)**2 - 5 * x1 + 3\n",
        "    f_X2 = 2 * (x2)**2 - 5 * x2 + 3\n",
        "    currentInterval.append(round(a,3))\n",
        "    currentInterval.append(round(b,3))\n",
        "    print(currentInterval)\n",
        "\n",
        "goldenEndTime = time.time()\n"
      ]
    },
    {
      "cell_type": "markdown",
      "metadata": {
        "id": "MJM77vRcpPUL"
      },
      "source": [
        "## Results"
      ]
    },
    {
      "cell_type": "code",
      "execution_count": 13,
      "metadata": {
        "colab": {
          "base_uri": "https://localhost:8080/"
        },
        "id": "vVyWDjAQpPUL",
        "outputId": "75c7a1f8-c897-4228-925a-3482cc4ec571"
      },
      "outputs": [
        {
          "name": "stdout",
          "output_type": "stream",
          "text": [
            "1.252\n",
            "-0.125\n"
          ]
        }
      ],
      "source": [
        "goldenMinimum = (a+b) / 2\n",
        "print(round(goldenMinimum,3))\n",
        "goldenF_min = 2 * (goldenMinimum)**2 - 5 * goldenMinimum + 3\n",
        "print(round(goldenF_min,3))"
      ]
    },
    {
      "cell_type": "markdown",
      "metadata": {
        "id": "hN6fbVDopPUL"
      },
      "source": [
        "## Benchmark"
      ]
    },
    {
      "cell_type": "code",
      "execution_count": 14,
      "metadata": {
        "colab": {
          "base_uri": "https://localhost:8080/"
        },
        "id": "73gG0kOTpPUL",
        "outputId": "ebdb2f8c-767d-4714-f8d8-c809b4212bc5"
      },
      "outputs": [
        {
          "name": "stdout",
          "output_type": "stream",
          "text": [
            "Converged after 1 iterations\n",
            "Taken: 0.0 Seconds\n"
          ]
        }
      ],
      "source": [
        "print(f\"Converged after {goldenIterations} iterations\")\n",
        "goldenTakenTime = goldenEndTime - goldenStartTime\n",
        "print(f\"Taken: {round(goldenTakenTime,9)} Seconds\")"
      ]
    },
    {
      "cell_type": "markdown",
      "metadata": {
        "id": "AbXi1vYBpPUL"
      },
      "source": [
        "## Adding to benchmark to compare later"
      ]
    },
    {
      "cell_type": "code",
      "execution_count": 15,
      "metadata": {
        "id": "hR6sOX7ApPUL"
      },
      "outputs": [],
      "source": [
        "benchMarks[\"Golden\"] = {\n",
        "                        \"Iterations\":goldenIterations,\n",
        "                        \"TimeTaken\": round(goldenTakenTime, 6),\n",
        "                        \"F\": round(goldenF_min, 3),\n",
        "                        \"X\": round(goldenMinimum, 3)\n",
        "                        }\n"
      ]
    },
    {
      "cell_type": "markdown",
      "metadata": {
        "id": "BJKdbN8ZpPUL"
      },
      "source": [
        "# Newton"
      ]
    },
    {
      "cell_type": "markdown",
      "metadata": {
        "id": "V7GtAhxKpPUL"
      },
      "source": [
        "## Initial X and Computing 1st and 2nd derivatives"
      ]
    },
    {
      "cell_type": "code",
      "execution_count": 16,
      "metadata": {
        "id": "plwOgBVmpPUL"
      },
      "outputs": [],
      "source": [
        "xSymbol = sp.symbols('x')\n",
        "newtonF_x = 2 * (xSymbol)**2 - 5 * xSymbol + 3\n",
        "dF_x_1 = sp.diff(newtonF_x, xSymbol)\n",
        "dF_x_2 = sp.diff(dF_x_1, xSymbol)"
      ]
    },
    {
      "cell_type": "markdown",
      "metadata": {
        "id": "MzDC7zKVpPUL"
      },
      "source": [
        "## Updating x"
      ]
    },
    {
      "cell_type": "code",
      "execution_count": 17,
      "metadata": {
        "colab": {
          "base_uri": "https://localhost:8080/"
        },
        "id": "Dfow32e_pPUL",
        "outputId": "564caaea-50d7-4a7c-84a8-7d0f4935a831"
      },
      "outputs": [
        {
          "name": "stdout",
          "output_type": "stream",
          "text": [
            "1.25\n"
          ]
        }
      ],
      "source": [
        "newtonX = 2\n",
        "newtonOldX = 0\n",
        "newtonIterations = 0\n",
        "# x = x - (dF_x_1/dF_x_2)\n",
        "newtonStartTime = time.time()\n",
        "while abs(newtonX-newtonOldX) > EPSILON:\n",
        "    newtonIterations+=1\n",
        "    dF_x_1_atx = dF_x_1.subs(xSymbol,newtonX)\n",
        "    dF_x_2_atx = dF_x_2.subs(xSymbol,newtonX)\n",
        "    newtonOldX = newtonX\n",
        "    newtonX = float(newtonX - (dF_x_1_atx/dF_x_2_atx))\n",
        "    print(newtonX)\n",
        "    if newtonX-newtonOldX < EPSILON:\n",
        "\n",
        "        break\n",
        "\n",
        "newtonEndTime = time.time()"
      ]
    },
    {
      "cell_type": "markdown",
      "metadata": {
        "id": "l3kcy8G_pPUM"
      },
      "source": [
        "## Results"
      ]
    },
    {
      "cell_type": "code",
      "execution_count": 18,
      "metadata": {
        "colab": {
          "base_uri": "https://localhost:8080/"
        },
        "id": "2cLnEPY1pPUM",
        "outputId": "09e69b3d-eda5-46b9-edcf-4435494d5c3c"
      },
      "outputs": [
        {
          "name": "stdout",
          "output_type": "stream",
          "text": [
            "1.25\n",
            "-0.125\n"
          ]
        }
      ],
      "source": [
        "print(newtonX)\n",
        "newtonF_min = 2*(newtonX)**2 -5 * newtonX +3\n",
        "print(newtonF_min)"
      ]
    },
    {
      "cell_type": "markdown",
      "metadata": {
        "id": "JRM28MrwpPUQ"
      },
      "source": [
        "## Benchmark"
      ]
    },
    {
      "cell_type": "code",
      "execution_count": 19,
      "metadata": {
        "colab": {
          "base_uri": "https://localhost:8080/"
        },
        "id": "yUJaVcRrpPUQ",
        "outputId": "7fb2d575-e7df-456b-d7fc-d3b0e6c93374"
      },
      "outputs": [
        {
          "name": "stdout",
          "output_type": "stream",
          "text": [
            "Converged after 1 iterations\n",
            "Taken: 0.0 Seconds\n"
          ]
        }
      ],
      "source": [
        "print(f\"Converged after {newtonIterations} iterations\")\n",
        "newtonTakenTime = newtonEndTime - newtonStartTime\n",
        "print(f\"Taken: {newtonTakenTime} Seconds\")"
      ]
    },
    {
      "cell_type": "markdown",
      "metadata": {
        "id": "MQDzLLAOpPUQ"
      },
      "source": [
        "## Adding to benchmark to compare later"
      ]
    },
    {
      "cell_type": "code",
      "execution_count": 20,
      "metadata": {
        "id": "crM0FWE3pPUQ"
      },
      "outputs": [],
      "source": [
        "benchMarks[\"Newton\"] = {\n",
        "                        \"Iterations\":newtonIterations,\n",
        "                        \"TimeTaken\": round(newtonTakenTime, 6),\n",
        "                        \"F\": round(newtonF_min, 3),\n",
        "                        \"X\": round(newtonX, 3)\n",
        "                        }"
      ]
    },
    {
      "cell_type": "code",
      "execution_count": 21,
      "metadata": {
        "colab": {
          "base_uri": "https://localhost:8080/"
        },
        "id": "Bql8kAdrpPUQ",
        "outputId": "2d58489c-c93b-4f77-98c0-66bacc4d3e58"
      },
      "outputs": [
        {
          "data": {
            "text/plain": [
              "{'Fibonacci': {'Iterations': 11, 'TimeTaken': 0.001, 'F': -0.125, 'X': 1.249},\n",
              " 'Golden': {'Iterations': 1, 'TimeTaken': 0.0, 'F': -0.125, 'X': 1.252},\n",
              " 'Newton': {'Iterations': 1, 'TimeTaken': 0.0, 'F': -0.125, 'X': 1.25}}"
            ]
          },
          "execution_count": 21,
          "metadata": {},
          "output_type": "execute_result"
        }
      ],
      "source": [
        "benchMarks"
      ]
    },
    {
      "cell_type": "markdown",
      "metadata": {
        "id": "0QIC2ZwwpPUQ"
      },
      "source": [
        "# Refractoring Fibonacci, Golden Section and Newton methods into functions (Modularization)"
      ]
    },
    {
      "cell_type": "markdown",
      "metadata": {
        "id": "WNuwthM8pPUQ"
      },
      "source": [
        "### Fibonacci"
      ]
    },
    {
      "cell_type": "code",
      "execution_count": 22,
      "metadata": {
        "id": "TkTxFsGipPUQ"
      },
      "outputs": [],
      "source": [
        "def fibonacci_method_1d(f, interval, epsilon):\n",
        "    Fs = [1, 1]\n",
        "    max_fibonacci_number = (interval[1] - interval[0]) / epsilon\n",
        "    while Fs[-1] < max_fibonacci_number:\n",
        "        Fs.append(Fs[-1] + Fs[-2])\n",
        "    Fs.pop()\n",
        "    k = len(Fs)\n",
        "\n",
        "    a, b = interval\n",
        "    x1 = a + (Fs[k - 3] / Fs[k - 1]) * (b - a)\n",
        "    x2 = a + (Fs[k - 2] / Fs[k - 1]) * (b - a)\n",
        "\n",
        "    iterations = 0\n",
        "    start_time = time.time()\n",
        "    for i in range(k - 2):\n",
        "        iterations += 1\n",
        "        f_x1 = f(x1)\n",
        "        f_x2 = f(x2)\n",
        "        if f_x1 > f_x2:\n",
        "            a = x1\n",
        "            x1 = x2\n",
        "            x2 = a + (Fs[k - 2] / Fs[k - 1]) * (b - a)\n",
        "        else:\n",
        "            b = x2\n",
        "            x2 = x1\n",
        "            x1 = a + (Fs[k - 3] / Fs[k - 1]) * (b - a)\n",
        "        k -= 1\n",
        "        if b - a <= epsilon:\n",
        "            break\n",
        "    end_time = time.time()\n",
        "\n",
        "    minimum = (a + b) / 2\n",
        "    f_min = f(minimum)\n",
        "    cpu_time = end_time - start_time\n",
        "    return minimum, f_min, iterations, cpu_time"
      ]
    },
    {
      "cell_type": "markdown",
      "metadata": {
        "id": "Bq1KUoY7pPUR"
      },
      "source": [
        "### Golden Section"
      ]
    },
    {
      "cell_type": "code",
      "execution_count": 23,
      "metadata": {
        "id": "L4yg7g46pPUR"
      },
      "outputs": [],
      "source": [
        "def golden_section_method_1d(f, interval, epsilon):\n",
        "    golden_ratio = (math.sqrt(5) - 1) / 2\n",
        "    a, b = interval\n",
        "    x1 = a + (1 - golden_ratio) * (b - a)\n",
        "    x2 = a + golden_ratio * (b - a)\n",
        "\n",
        "    f_x1 = f(x1)\n",
        "    f_x2 = f(x2)\n",
        "\n",
        "    iterations = 0\n",
        "    start_time = time.time()\n",
        "    while (b - a) > epsilon:\n",
        "        iterations += 1\n",
        "        if f_x1 < f_x2:\n",
        "            b = x2\n",
        "            x2 = x1\n",
        "            x1 = a + (1 - golden_ratio) * (b - a)\n",
        "        elif f_x1 > f_x2:\n",
        "            a = x1\n",
        "            x1 = x2\n",
        "            x2 = a + golden_ratio * (b - a)\n",
        "        f_x1 = f(x1)\n",
        "        f_x2 = f(x2)\n",
        "\n",
        "    end_time = time.time()\n",
        "    minimum = (a + b) / 2\n",
        "    f_min = f(minimum)\n",
        "    cpu_time = end_time - start_time\n",
        "    return minimum, f_min, iterations, cpu_time"
      ]
    },
    {
      "cell_type": "markdown",
      "metadata": {
        "id": "6Q9W8kKkpPUR"
      },
      "source": [
        "### Newton"
      ]
    },
    {
      "cell_type": "code",
      "execution_count": 24,
      "metadata": {
        "id": "WoZV7Pf1pPUR"
      },
      "outputs": [],
      "source": [
        "def newtons_method_1d(f, f_prime, f_double_prime, x0, tol=1e-5, max_iter=1000):\n",
        "    x = x0\n",
        "    old_x = 0\n",
        "    iterations = 0\n",
        "    start_time = time.time()\n",
        "\n",
        "    while abs(x - old_x) > tol and iterations < max_iter:\n",
        "        iterations += 1\n",
        "        first_deriv = f_prime(x)\n",
        "        second_deriv = f_double_prime(x)\n",
        "        old_x = x\n",
        "        x = x - (first_deriv/second_deriv)\n",
        "    end_time = time.time()\n",
        "    f_min = f(x)\n",
        "    cpu_time = end_time - start_time\n",
        "    return x, f_min, iterations, cpu_time"
      ]
    },
    {
      "cell_type": "markdown",
      "metadata": {
        "id": "YarH4KP4pPUR"
      },
      "source": [
        "# Quasi-Newton Method (1D)"
      ]
    },
    {
      "cell_type": "code",
      "execution_count": 25,
      "metadata": {
        "id": "YZTeWxtppPUR"
      },
      "outputs": [],
      "source": [
        "def quasi_newton_method_1d(f, f_prime, x0, tol=1e-5, max_iter=1000, h=1e-5):\n",
        "    x = x0\n",
        "    iterations = 0\n",
        "    start_time = time.time()\n",
        "\n",
        "    # Approximate Hessian using finite difference\n",
        "    hessian = (f_prime(x + h) - f_prime(x))/h\n",
        "\n",
        "    while abs(f_prime(x)) > tol and iterations < max_iter:\n",
        "        x = x - f_prime(x) / hessian  # Update x based on approximated Hessian\n",
        "        iterations += 1\n",
        "    end_time = time.time()\n",
        "    cpu_time = end_time - start_time\n",
        "    return x, f(x), iterations, cpu_time"
      ]
    },
    {
      "cell_type": "markdown",
      "metadata": {
        "id": "RkHuaomIpPUR"
      },
      "source": [
        "# Secant Method (1D)"
      ]
    },
    {
      "cell_type": "code",
      "execution_count": 26,
      "metadata": {
        "id": "mgBRKnD_pPUR"
      },
      "outputs": [],
      "source": [
        "def secant_method_1d(f, x0, x1, tol=1e-5, max_iter=1000):\n",
        "    start_time = time.time()\n",
        "    x_prev = x0\n",
        "    x_curr = x1\n",
        "    iterations = 0\n",
        "    while abs(f(x_curr) - f(x_prev)) > tol and iterations < max_iter:\n",
        "        x_next = x_curr - f(x_curr) * (x_curr - x_prev) / \\\n",
        "            (f(x_curr) - f(x_prev))  # Secant formula\n",
        "        x_prev = x_curr\n",
        "        x_curr = x_next\n",
        "        iterations += 1\n",
        "    end_time = time.time()\n",
        "    cpu_time = end_time - start_time\n",
        "    return x_curr, f(x_curr), iterations, cpu_time"
      ]
    },
    {
      "cell_type": "markdown",
      "metadata": {
        "id": "7eGiai43pPUR"
      },
      "source": [
        "# Benchmark Functions"
      ]
    },
    {
      "cell_type": "markdown",
      "metadata": {
        "id": "R7KUz_nJpPUR"
      },
      "source": [
        "### Rosenbrock's function and its gradient"
      ]
    },
    {
      "cell_type": "code",
      "execution_count": 27,
      "metadata": {
        "id": "5iQdf5ogpPUR"
      },
      "outputs": [],
      "source": [
        "def rosenbrock(x):\n",
        "    return 100 * (x[1] - x[0]**2)**2 + (1 - x[0])**2\n",
        "\n",
        "\n",
        "def rosenbrock_grad(x):\n",
        "    return np.array([\n",
        "        -400 * x[0] * (x[1] - x[0]**2) - 2 * (1 - x[0]),\n",
        "        200 * (x[1] - x[0]**2)\n",
        "    ])"
      ]
    },
    {
      "cell_type": "markdown",
      "metadata": {
        "id": "8DUQvcnqpPUS"
      },
      "source": [
        "### Powell's quartic function"
      ]
    },
    {
      "cell_type": "code",
      "execution_count": 28,
      "metadata": {
        "id": "crxyRsu7pPUS"
      },
      "outputs": [],
      "source": [
        "def powell_quartic(x):\n",
        "    return (x[0] + 10 * x[1])**2 + 5 * (x[2] - x[3])**2 + (x[1] - 2 * x[2])**4 + 10 * (x[0] - x[3])**4\n",
        "\n",
        "# For Powell's quartic, finding the gradient analytically is complex; let's use finite differences\n",
        "\n",
        "\n",
        "def powell_quartic_grad(x, h=1e-5):\n",
        "    grad = np.zeros_like(x)\n",
        "    for i in range(len(x)):\n",
        "        x_plus_h = x.copy()\n",
        "        x_plus_h[i] += h\n",
        "        grad[i] = (powell_quartic(x_plus_h) - powell_quartic(x)) / h\n",
        "    return grad"
      ]
    },
    {
      "cell_type": "markdown",
      "metadata": {
        "id": "gp_va1axpPUS"
      },
      "source": [
        "### 1D minimization with Line Search using Rosenbrock Function"
      ]
    },
    {
      "cell_type": "code",
      "execution_count": 29,
      "metadata": {
        "id": "ki-RxHzEpPUS"
      },
      "outputs": [],
      "source": [
        "def rosenbrock_1d(x, d, alpha):\n",
        "    x_new = x + alpha*d\n",
        "    return rosenbrock(x_new)\n",
        "\n",
        "\n",
        "def rosenbrock_1d_grad(x, d, alpha):\n",
        "    h = 1e-5\n",
        "    return (rosenbrock_1d(x, d, alpha+h)-rosenbrock_1d(x, d, alpha))/h"
      ]
    },
    {
      "cell_type": "markdown",
      "metadata": {
        "id": "PMG8VOOnpPUS"
      },
      "source": [
        "### 1D minimization with Line Search using Powell's Function"
      ]
    },
    {
      "cell_type": "code",
      "execution_count": 30,
      "metadata": {
        "id": "Am7hNVq5pPUS"
      },
      "outputs": [],
      "source": [
        "def powell_quartic_1d(x, d, alpha):\n",
        "    x_new = x + alpha*d\n",
        "    return powell_quartic(x_new)\n",
        "\n",
        "\n",
        "def powell_quartic_1d_grad(x, d, alpha):\n",
        "    h = 1e-5\n",
        "    return (powell_quartic_1d(x, d, alpha+h)-powell_quartic_1d(x, d, alpha))/h"
      ]
    },
    {
      "cell_type": "markdown",
      "metadata": {
        "id": "bM3VMZkFpPUT"
      },
      "source": [
        "# Part 2  (***Youssef Tarek 202201545***)"
      ]
    },
    {
      "cell_type": "markdown",
      "metadata": {
        "id": "prtECv1LpPUT"
      },
      "source": [
        "## a) Fletcher-Reeves CG Method"
      ]
    },
    {
      "cell_type": "code",
      "execution_count": 31,
      "metadata": {
        "id": "zF49hVjTpPUT"
      },
      "outputs": [],
      "source": [
        "def rosenbrock(x):\n",
        "    return sum(100*(x[1:]-x[:-1]**2)**2 + (1-x[:-1])**2)\n",
        "\n",
        "\n",
        "def powell_quartic(x):\n",
        "    return sum((x[i]**4 - 10*x[i]**2 + 1)**2 for i in range(len(x)))\n",
        "\n",
        "\n",
        "def gradient(f, x, h=1e-5):\n",
        "    n = len(x)\n",
        "    grad = np.zeros(n)\n",
        "    for i in range(n):\n",
        "        x1 = x.copy()\n",
        "        x2 = x.copy()\n",
        "        x1[i] -= h\n",
        "        x2[i] += h\n",
        "        grad[i] = (f(x2) - f(x1)) / (2 * h)\n",
        "    return grad\n",
        "\n",
        "\n",
        "def fletcher_reeves_step_by_step(objective_func, x0, max_iter=1000, tol=1e-6):\n",
        "    # Line search to find optimal step length\n",
        "    def line_search(f, x, d):\n",
        "        alpha = 1\n",
        "        rho = 0.5\n",
        "        c = 1e-4\n",
        "        while f(x + alpha * d) > f(x) + c * alpha * np.dot(gradient(f, x), d):\n",
        "            alpha *= rho\n",
        "        return alpha\n",
        "\n",
        "    x = x0\n",
        "    g = gradient(objective_func, x)\n",
        "    d = -g\n",
        "\n",
        "    while np.linalg.norm(g) > tol:\n",
        "        alpha = line_search(objective_func, x, d)\n",
        "        x = x + alpha * d\n",
        "\n",
        "        g_new = gradient(objective_func, x)\n",
        "        beta = np.dot(g_new, g_new) / np.dot(g, g)\n",
        "        d = -g_new + beta * d\n",
        "        g = g_new\n",
        "\n",
        "    return np.round(x, 4)"
      ]
    },
    {
      "cell_type": "markdown",
      "metadata": {
        "id": "A5ypPDgmpPUT"
      },
      "source": [
        "## b) Marquardt Method."
      ]
    },
    {
      "cell_type": "code",
      "execution_count": 32,
      "metadata": {
        "id": "GnCkd8eqpPUT"
      },
      "outputs": [],
      "source": [
        "def marquardt_method(f, grad_f, x0, tol=1e-6, max_iter=100, lambda_init=1e-3):\n",
        "    x = np.array(x0, dtype=float)\n",
        "    lambda_ = lambda_init\n",
        "\n",
        "    for iteration in range(max_iter):\n",
        "        grad = grad_f(f, x)\n",
        "        H = np.eye(len(x)) + lambda_ * np.eye(len(x))\n",
        "\n",
        "        try:\n",
        "            delta_x = np.linalg.solve(H, -grad)\n",
        "        except np.linalg.LinAlgError:\n",
        "            raise ValueError(\n",
        "                \"Singular matrix encountered in solving linear system.\")\n",
        "\n",
        "        x_new = x + delta_x\n",
        "        cost = f(x)\n",
        "        cost_new = f(x_new)\n",
        "\n",
        "        if np.linalg.norm(delta_x) < tol:\n",
        "            return x_new, {\"status\": \"converged\", \"iterations\": iteration + 1, \"cost\": cost_new}\n",
        "\n",
        "        if cost_new < cost:\n",
        "            x = x_new\n",
        "            lambda_ /= 10\n",
        "        else:\n",
        "            lambda_ *= 10\n",
        "\n",
        "    return x, {\"status\": \"max_iter_exceeded\", \"iterations\": max_iter, \"cost\": f(x)}"
      ]
    },
    {
      "cell_type": "markdown",
      "metadata": {
        "id": "u1zyd-N6pPUT"
      },
      "source": [
        "## c) Quasi-Newton Method."
      ]
    },
    {
      "cell_type": "code",
      "execution_count": 33,
      "metadata": {
        "id": "DyMqcc8MpPUU"
      },
      "outputs": [],
      "source": [
        "def quasi_newton_method(f, grad_f, x0, tol=1e-6, max_iter=100):\n",
        "\n",
        "    x = np.array(x0, dtype=float)\n",
        "    n = len(x)\n",
        "    H = np.eye(n)\n",
        "\n",
        "    for iteration in range(max_iter):\n",
        "        grad = grad_f(f, x)\n",
        "        if np.linalg.norm(grad) < tol:\n",
        "            return x, {\"status\": \"converged\", \"iterations\": iteration, \"grad_norm\": np.linalg.norm(grad)}\n",
        "\n",
        "        p = -H @ grad\n",
        "        alpha = 1\n",
        "        while f(x + alpha * p) > f(x) + 1e-4 * alpha * grad.dot(p):\n",
        "            alpha *= 0.5\n",
        "\n",
        "        x_new = x + alpha * p\n",
        "        grad_new = grad_f(f, x_new)\n",
        "        s = x_new - x\n",
        "        y = grad_new - grad\n",
        "\n",
        "        rho = 1 / (y.dot(s))\n",
        "        if np.isfinite(rho):\n",
        "            I = np.eye(n)\n",
        "            H = (I - rho * np.outer(s, y)) @ H @ (I -\n",
        "                                                  rho * np.outer(y, s)) + rho * np.outer(s, s)\n",
        "\n",
        "        x = x_new\n",
        "\n",
        "    return x, {\"status\": \"max_iter_exceeded\", \"iterations\": max_iter, \"grad_norm\": np.linalg.norm(grad)}"
      ]
    },
    {
      "cell_type": "markdown",
      "metadata": {
        "id": "6D7zobK8pPUS"
      },
      "source": [
        "# Main"
      ]
    },
    {
      "cell_type": "code",
      "execution_count": 34,
      "metadata": {
        "id": "dOIKMznrpPUS"
      },
      "outputs": [],
      "source": [
        "bench_marks = {}"
      ]
    },
    {
      "cell_type": "markdown",
      "metadata": {
        "id": "RoVYJxTDpbV9"
      },
      "source": [
        "## Part 1 Benchmarks"
      ]
    },
    {
      "cell_type": "markdown",
      "metadata": {
        "id": "XLBsTYPIpPUS"
      },
      "source": [
        "### 1D Minimization Tests (For making sure that 1D is working (Generalization))\n"
      ]
    },
    {
      "cell_type": "code",
      "execution_count": 35,
      "metadata": {
        "colab": {
          "base_uri": "https://localhost:8080/"
        },
        "id": "mbbqZuTcpPUS",
        "outputId": "54bbb8fe-8053-4e23-8a8e-922aed2f3f0d"
      },
      "outputs": [
        {
          "name": "stdout",
          "output_type": "stream",
          "text": [
            "--- 1D Minimization on f(x) = 2x^2 - 5x + 3 ---\n",
            "Fibonacci Method - Min: 1.249, f(min): -0.125, Iterations: 11, Time: 0.000000\n",
            "Golden Section Method - Min: 1.248, f(min): -0.125, Iterations: 12, Time: 0.000000\n",
            "Newton's Method - Min: 1.250, f(min): -0.125, Iterations: 2, Time: 0.000000\n"
          ]
        }
      ],
      "source": [
        "print(\"--- 1D Minimization on f(x) = 2x^2 - 5x + 3 ---\")\n",
        "# -- Fibonacci Method --\n",
        "minimum, f_min, iterations, cpu_time = fibonacci_method_1d(\n",
        "    f_1d_problem, interval, EPSILON)\n",
        "print(f\"Fibonacci Method - Min: {minimum:.3f}, f(min): {f_min:.3f}, Iterations: {iterations}, Time: {cpu_time:.6f}\")\n",
        "bench_marks[\"Fibonacci\"] = {\"Iterations\": iterations, \"TimeTaken\": round(\n",
        "    cpu_time, 6), \"F\": round(f_min, 3), \"X\": round(minimum, 3)}\n",
        "\n",
        "# -- Golden Section Method --\n",
        "minimum, f_min, iterations, cpu_time = golden_section_method_1d(\n",
        "    f_1d_problem, interval, EPSILON)\n",
        "print(f\"Golden Section Method - Min: {minimum:.3f}, f(min): {f_min:.3f}, Iterations: {iterations}, Time: {cpu_time:.6f}\")\n",
        "bench_marks[\"Golden\"] = {\"Iterations\": iterations, \"TimeTaken\": round(\n",
        "    cpu_time, 6), \"F\": round(f_min, 3), \"X\": round(minimum, 3)}\n",
        "\n",
        "# -- Newton's Method --\n",
        "xSymbol = sp.symbols('x')\n",
        "newtonF_x = 2 * (xSymbol)**2 - 5 * xSymbol + 3\n",
        "dF_x_1 = sp.lambdify(xSymbol, sp.diff(newtonF_x, xSymbol))\n",
        "dF_x_2 = sp.lambdify(xSymbol, sp.diff(\n",
        "    sp.diff(newtonF_x, xSymbol), xSymbol))\n",
        "\n",
        "minimum, f_min, iterations, cpu_time = newtons_method_1d(\n",
        "    f_1d_problem, dF_x_1, dF_x_2, 2, tol=EPSILON)\n",
        "print(f\"Newton's Method - Min: {minimum:.3f}, f(min): {f_min:.3f}, Iterations: {iterations}, Time: {cpu_time:.6f}\")\n",
        "bench_marks[\"Newton\"] = {\"Iterations\": iterations, \"TimeTaken\": round(\n",
        "    cpu_time, 6), \"F\": round(f_min, 3), \"X\": round(minimum, 3)}"
      ]
    },
    {
      "cell_type": "markdown",
      "metadata": {
        "id": "BF05Vq_xpPUS"
      },
      "source": [
        "### 2D Minimization with Line Search"
      ]
    },
    {
      "cell_type": "markdown",
      "metadata": {
        "id": "IZHQ_8eYpPUS"
      },
      "source": [
        "#### Rosenbrock Function"
      ]
    },
    {
      "cell_type": "code",
      "execution_count": 36,
      "metadata": {
        "colab": {
          "base_uri": "https://localhost:8080/"
        },
        "id": "vJF3dhEXpPUS",
        "outputId": "5eea932e-cf6e-4b95-b4e1-82223102321e"
      },
      "outputs": [
        {
          "name": "stdout",
          "output_type": "stream",
          "text": [
            "\n",
            "--- 2D Minimization on Rosenbrock with Line Search ---\n",
            "Fibonacci (Rosenbrock) - Optimal alpha: 0.007957, f(x): 205.982138, Iterations: 11, CPU time: 0.001005\n",
            "Golden Section (Rosenbrock) - Optimal alpha: 0.010417, f(x): 67.724427, Iterations: 12, CPU time: 0.000000\n",
            "Quasi-Newton (Rosenbrock) - Optimal alpha: 0.000783, f(x): 4.128805, Iterations: 18, CPU time: 0.002099\n",
            "Secant (Rosenbrock)- Optimal alpha: 0.012262, f(x): 0.199322, Iterations: 400, CPU time: 0.028695\n",
            "Newton (Rosenbrock) - Optimal alpha: 0.022449, f(x): 10561.833050, Iterations: 12, Time: 0.000000\n"
          ]
        }
      ],
      "source": [
        "print(\"\\n--- 2D Minimization on Rosenbrock with Line Search ---\")\n",
        "x0_rosen = np.array([-1.2, 1.0], dtype=float)\n",
        "d_rosen = -rosenbrock_grad(x0_rosen)\n",
        "initial_alpha = 0.0\n",
        "initial_alpha_secant = 0.1\n",
        "interval_rosen = [0, 3]\n",
        "\n",
        "# Fibonacci\n",
        "min_alpha, min_val, iterations, cpu_time = fibonacci_method_1d(\n",
        "    lambda alpha: rosenbrock_1d(x0_rosen, d_rosen, alpha), interval_rosen, EPSILON)\n",
        "print(f\"Fibonacci (Rosenbrock) - Optimal alpha: {min_alpha:.6f}, f(x): {min_val:.6f}, Iterations: {iterations}, CPU time: {cpu_time:.6f}\")\n",
        "\n",
        "# Golden Section\n",
        "min_alpha, min_val, iterations, cpu_time = golden_section_method_1d(\n",
        "    lambda alpha: rosenbrock_1d(x0_rosen, d_rosen, alpha), interval_rosen, EPSILON)\n",
        "print(f\"Golden Section (Rosenbrock) - Optimal alpha: {min_alpha:.6f}, f(x): {min_val:.6f}, Iterations: {iterations}, CPU time: {cpu_time:.6f}\")\n",
        "\n",
        "# Quasi-Newton\n",
        "min_alpha, min_val, iterations, cpu_time = quasi_newton_method_1d(\n",
        "    lambda alpha: rosenbrock_1d(x0_rosen, d_rosen, alpha),\n",
        "    lambda alpha: rosenbrock_1d_grad(x0_rosen, d_rosen, alpha),\n",
        "    initial_alpha\n",
        ")\n",
        "print(f\"Quasi-Newton (Rosenbrock) - Optimal alpha: {min_alpha:.6f}, f(x): {min_val:.6f}, Iterations: {iterations}, CPU time: {cpu_time:.6f}\")\n",
        "\n",
        "# Secant\n",
        "min_alpha, min_val, iterations, cpu_time = secant_method_1d(\n",
        "    lambda alpha: rosenbrock_1d(x0_rosen, d_rosen, alpha),\n",
        "    initial_alpha, initial_alpha_secant\n",
        ")\n",
        "print(f\"Secant (Rosenbrock)- Optimal alpha: {min_alpha:.6f}, f(x): {min_val:.6f}, Iterations: {iterations}, CPU time: {cpu_time:.6f}\")\n",
        "\n",
        "# Newton\n",
        "xSymbol = sp.symbols('alpha')\n",
        "rosenbrock_x = rosenbrock_1d(x0_rosen, d_rosen, xSymbol)\n",
        "dF_x_1 = sp.lambdify(xSymbol, sp.diff(rosenbrock_x, xSymbol))\n",
        "dF_x_2 = sp.lambdify(xSymbol, sp.diff(\n",
        "    sp.diff(rosenbrock_x, xSymbol), xSymbol))\n",
        "\n",
        "min_alpha, min_val, iterations, cpu_time = newtons_method_1d(\n",
        "    lambda alpha: rosenbrock_1d(x0_rosen, d_rosen, alpha), dF_x_1, dF_x_2, 2, tol=EPSILON)\n",
        "print(f\"Newton (Rosenbrock) - Optimal alpha: {min_alpha:.6f}, f(x): {min_val:.6f}, Iterations: {iterations}, Time: {cpu_time:.6f}\")"
      ]
    },
    {
      "cell_type": "markdown",
      "metadata": {
        "id": "1j8epTxxpPUT"
      },
      "source": [
        "#### Powell's Quartic Function"
      ]
    },
    {
      "cell_type": "code",
      "execution_count": 37,
      "metadata": {
        "colab": {
          "base_uri": "https://localhost:8080/"
        },
        "id": "d_5R6iY5pPUT",
        "outputId": "d56a0536-f926-440b-db6d-13bb3ba8e5f7"
      },
      "outputs": [
        {
          "name": "stdout",
          "output_type": "stream",
          "text": [
            "\n",
            "--- 2D Minimization on Powell's Quartic with Line Search ---\n",
            "Fibonacci (Powell) - Optimal alpha: 0.007957, f(x): 36748986.699809, Iterations: 11, CPU time: 0.000000\n",
            "Golden Section (Powell) - Optimal alpha: 0.004658, f(x): 2074167.186927, Iterations: 12, CPU time: 0.000000\n",
            "Quasi-Newton (Powell) - Optimal alpha: -0.000039, f(x): 222.674088, Iterations: 1000, CPU time: 0.021078\n",
            "Secant (Powell)- Optimal alpha: -0.000000, f(x): 193.000000, Iterations: 2, CPU time: 0.000000\n",
            "Newton (Powell) - Optimal alpha: 0.053976, f(x): 15095210475226.742188, Iterations: 23, Time: 0.000000\n"
          ]
        }
      ],
      "source": [
        "print(\"\\n--- 2D Minimization on Powell's Quartic with Line Search ---\")\n",
        "x0_powell = np.array([3.0, -1.0, 0.0, 1.0], dtype=float)\n",
        "d_powell = -powell_quartic_grad(x0_powell)\n",
        "initial_alpha = 0.0\n",
        "initial_alpha_secant = 0.1\n",
        "interval_powell = [0, 3]\n",
        "\n",
        "# Fibonacci\n",
        "min_alpha, min_val, iterations, cpu_time = fibonacci_method_1d(\n",
        "    lambda alpha: powell_quartic_1d(x0_powell, d_powell, alpha), interval_powell, EPSILON)\n",
        "print(f\"Fibonacci (Powell) - Optimal alpha: {min_alpha:.6f}, f(x): {min_val:.6f}, Iterations: {iterations}, CPU time: {cpu_time:.6f}\")\n",
        "\n",
        "# Golden Section\n",
        "min_alpha, min_val, iterations, cpu_time = golden_section_method_1d(\n",
        "    lambda alpha: powell_quartic_1d(x0_powell, d_powell, alpha), interval_powell, EPSILON)\n",
        "print(f\"Golden Section (Powell) - Optimal alpha: {min_alpha:.6f}, f(x): {min_val:.6f}, Iterations: {iterations}, CPU time: {cpu_time:.6f}\")\n",
        "\n",
        "# Quasi-Newton\n",
        "min_alpha, min_val, iterations, cpu_time = quasi_newton_method_1d(\n",
        "    lambda alpha: powell_quartic_1d(x0_powell, d_powell, alpha),\n",
        "    lambda alpha: powell_quartic_1d_grad(x0_powell, d_powell, alpha),\n",
        "    initial_alpha\n",
        ")\n",
        "print(f\"Quasi-Newton (Powell) - Optimal alpha: {min_alpha:.6f}, f(x): {min_val:.6f}, Iterations: {iterations}, CPU time: {cpu_time:.6f}\")\n",
        "\n",
        "# Secant\n",
        "min_alpha, min_val, iterations, cpu_time = secant_method_1d(\n",
        "    lambda alpha: powell_quartic_1d(x0_powell, d_powell, alpha),\n",
        "    initial_alpha, initial_alpha_secant\n",
        ")\n",
        "print(f\"Secant (Powell)- Optimal alpha: {min_alpha:.6f}, f(x): {min_val:.6f}, Iterations: {iterations}, CPU time: {cpu_time:.6f}\")\n",
        "\n",
        "# Newton\n",
        "xSymbol = sp.symbols('alpha')\n",
        "powell_x = powell_quartic_1d(x0_powell, d_powell, xSymbol)\n",
        "dF_x_1 = sp.lambdify(xSymbol, sp.diff(powell_x, xSymbol))\n",
        "dF_x_2 = sp.lambdify(xSymbol, sp.diff(sp.diff(powell_x, xSymbol), xSymbol))\n",
        "\n",
        "min_alpha, min_val, iterations, cpu_time = newtons_method_1d(\n",
        "    lambda alpha: powell_quartic_1d(x0_powell, d_powell, alpha), dF_x_1, dF_x_2, 2, tol=EPSILON)\n",
        "print(f\"Newton (Powell) - Optimal alpha: {min_alpha:.6f}, f(x): {min_val:.6f}, Iterations: {iterations}, Time: {cpu_time:.6f}\")"
      ]
    },
    {
      "cell_type": "markdown",
      "metadata": {
        "id": "Uc-F1tWRpuNs"
      },
      "source": [
        "## Part 2 Benchmarks  (***Youssef Tarek 202201545***)"
      ]
    },
    {
      "cell_type": "markdown",
      "metadata": {
        "id": "JlyfdyNHqItD"
      },
      "source": [
        "### Fletcher reeves step by step"
      ]
    },
    {
      "cell_type": "code",
      "execution_count": 38,
      "metadata": {
        "colab": {
          "base_uri": "https://localhost:8080/"
        },
        "id": "rMUgAWibp0FX",
        "outputId": "0ef7ee60-e713-41e4-94f9-cb1589914d3f"
      },
      "outputs": [
        {
          "name": "stdout",
          "output_type": "stream",
          "text": [
            "Rosenbrock Result: [1. 1.]\n",
            "Powell Quartic Result: [ 3.1463  0.3178  0.     -0.3178]\n"
          ]
        }
      ],
      "source": [
        "x0_rosenbrock = np.array([-1.2, 1])\n",
        "x0_powell = np.array([3, -1, 0, 1])\n",
        "\n",
        "rosenbrock_result = fletcher_reeves_step_by_step(rosenbrock, x0_rosenbrock)\n",
        "powell_result = fletcher_reeves_step_by_step(powell_quartic, x0_powell)\n",
        "\n",
        "print(\"Rosenbrock Result:\", rosenbrock_result)\n",
        "print(\"Powell Quartic Result:\", powell_result)"
      ]
    },
    {
      "cell_type": "markdown",
      "metadata": {
        "id": "e3sh47sfqO4a"
      },
      "source": [
        "### Marquardt method"
      ]
    },
    {
      "cell_type": "code",
      "execution_count": 39,
      "metadata": {
        "colab": {
          "base_uri": "https://localhost:8080/"
        },
        "id": "cz1zBiIMqWk4",
        "outputId": "ec563040-7c2b-489c-8312-ba6fefad1ccb"
      },
      "outputs": [
        {
          "name": "stdout",
          "output_type": "stream",
          "text": [
            "Powell's Quartic Solution: [-0.31783713 -0.31783724]\n",
            "Powell's Quartic Info: {'status': 'converged', 'iterations': 38, 'cost': 4.938304712835206e-13}\n",
            "Rosenbrock Solution [-0.7496555   0.55746974]\n",
            "Rosenbrock Info: {'status': 'max_iter_exceeded', 'iterations': 100, 'cost': 3.0633316507306096}\n"
          ]
        }
      ],
      "source": [
        "x0 = [-1.2, 1.0]\n",
        "\n",
        "solution_powell, info_powell = marquardt_method(\n",
        "    powell_quartic,\n",
        "    gradient,\n",
        "    x0\n",
        ")\n",
        "\n",
        "solution_rosenbrock, info_rosenbrock = marquardt_method(\n",
        "    rosenbrock,\n",
        "    gradient,\n",
        "    x0\n",
        ")\n",
        "\n",
        "print(\"Powell's Quartic Solution:\", solution_powell)\n",
        "print(\"Powell's Quartic Info:\", info_powell)\n",
        "\n",
        "print(\"Rosenbrock Solution\", solution_rosenbrock)\n",
        "print(\"Rosenbrock Info:\", info_rosenbrock)"
      ]
    },
    {
      "cell_type": "markdown",
      "metadata": {
        "id": "I3RlovZjqcer"
      },
      "source": [
        "### Quasi Newton method"
      ]
    },
    {
      "cell_type": "code",
      "execution_count": 40,
      "metadata": {
        "colab": {
          "base_uri": "https://localhost:8080/"
        },
        "id": "V32AlYY5qmuG",
        "outputId": "41d17f08-dab7-4edb-cc54-7bb2fdf8d6d6"
      },
      "outputs": [
        {
          "name": "stdout",
          "output_type": "stream",
          "text": [
            "Rosenbrock Solution: [0.99999998 0.99999996]\n",
            "Rosenbrock Info: {'status': 'converged', 'iterations': 34, 'grad_norm': 3.4967958816525055e-09}\n",
            "Powell's Quartic Solution: [ 3.14626437  0.31783725  0.         -0.31783725]\n",
            "Powell's Quartic Info: {'status': 'converged', 'iterations': 15, 'grad_norm': 4.2856046839127996e-09}\n"
          ]
        }
      ],
      "source": [
        "x0_rosenbrock = [-1.2, 1.0]\n",
        "solution_rosenbrock, info_rosenbrock = quasi_newton_method(\n",
        "    rosenbrock, gradient, x0_rosenbrock)\n",
        "print(\"Rosenbrock Solution:\", solution_rosenbrock)\n",
        "print(\"Rosenbrock Info:\", info_rosenbrock)\n",
        "\n",
        "x0_powell = [3.0, -1.0, 0.0, 1.0]\n",
        "solution_powell, info_powell = quasi_newton_method(\n",
        "    powell_quartic, gradient, x0_powell)\n",
        "print(\"Powell's Quartic Solution:\", solution_powell)\n",
        "print(\"Powell's Quartic Info:\", info_powell)"
      ]
    }
  ],
  "metadata": {
    "accelerator": "GPU",
    "colab": {
      "collapsed_sections": [
        "1T4iZnP6pPUI",
        "EFLLw1OFpPUJ",
        "BJKdbN8ZpPUL",
        "0QIC2ZwwpPUQ",
        "YarH4KP4pPUR",
        "RkHuaomIpPUR",
        "7eGiai43pPUR",
        "bM3VMZkFpPUT",
        "6D7zobK8pPUS",
        "XLBsTYPIpPUS",
        "BF05Vq_xpPUS",
        "IZHQ_8eYpPUS",
        "1j8epTxxpPUT",
        "Uc-F1tWRpuNs",
        "JlyfdyNHqItD",
        "e3sh47sfqO4a",
        "I3RlovZjqcer"
      ],
      "gpuType": "T4",
      "provenance": []
    },
    "kernelspec": {
      "display_name": "Python 3",
      "name": "python3"
    },
    "language_info": {
      "codemirror_mode": {
        "name": "ipython",
        "version": 3
      },
      "file_extension": ".py",
      "mimetype": "text/x-python",
      "name": "python",
      "nbconvert_exporter": "python",
      "pygments_lexer": "ipython3",
      "version": "3.12.6"
    }
  },
  "nbformat": 4,
  "nbformat_minor": 0
}
