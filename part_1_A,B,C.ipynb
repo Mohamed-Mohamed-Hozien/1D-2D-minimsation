{
 "cells": [
  {
   "cell_type": "markdown",
   "metadata": {},
   "source": [
    "# Imports"
   ]
  },
  {
   "cell_type": "code",
   "execution_count": null,
   "metadata": {},
   "outputs": [],
   "source": []
  },
  {
   "cell_type": "markdown",
   "metadata": {},
   "source": [
    "# A"
   ]
  },
  {
   "cell_type": "markdown",
   "metadata": {},
   "source": [
    "## Initialization"
   ]
  },
  {
   "cell_type": "code",
   "execution_count": 90,
   "metadata": {},
   "outputs": [
    {
     "data": {
      "text/plain": [
       "13"
      ]
     },
     "execution_count": 90,
     "metadata": {},
     "output_type": "execute_result"
    }
   ],
   "source": [
    "a = 0\n",
    "b = 9\n",
    "interval = [a,b]\n",
    "Fs = [1,1]\n",
    "EPSILON = 1\n",
    "length = (interval[1]-interval[0])/EPSILON\n",
    "while Fs[-1] < length:\n",
    "    Fs.append(Fs[-1] + Fs[-2])\n",
    "Fs.pop()"
   ]
  },
  {
   "cell_type": "markdown",
   "metadata": {},
   "source": [
    "## setting Initial points"
   ]
  },
  {
   "cell_type": "code",
   "execution_count": 91,
   "metadata": {},
   "outputs": [],
   "source": [
    "k = len(Fs)\n",
    "\n",
    "x1 = a + (Fs[k-3] / Fs[k-1]) * (b - a)\n",
    "x2 = a + (Fs[k-2] / Fs[k-1]) * (b - a)\n",
    "\n",
    "ITERATIONS = k - 2"
   ]
  },
  {
   "cell_type": "markdown",
   "metadata": {},
   "source": [
    "## Computing x1 and x2 in F(X)"
   ]
  },
  {
   "cell_type": "code",
   "execution_count": 92,
   "metadata": {},
   "outputs": [
    {
     "name": "stdout",
     "output_type": "stream",
     "text": [
      "[0, 5.625]\n",
      "[0, 3.375]\n",
      "[0, 2.109375]\n",
      "[0.703125, 2.109375]\n"
     ]
    }
   ],
   "source": [
    "for i in range(ITERATIONS):\n",
    "    newInterval = []\n",
    "    f_X1 = 2 * (x1)**2 - 5 * x1 + 3\n",
    "    f_X2 = 2 * (x2)**2 - 5 * x2 + 3\n",
    "    if f_X1 > f_X2:\n",
    "        a = x1\n",
    "        x1 = x2 \n",
    "        x2 = a+ (Fs[k-2]/Fs[k-1]) * (b-a)\n",
    "    else:\n",
    "        b = x2\n",
    "        x2 = x1\n",
    "        x1 = a + (Fs[k-3]/Fs[k-1]) * (b-a)\n",
    "    newInterval.append(a)\n",
    "    newInterval.append(b)\n",
    "    print(newInterval)\n",
    "    k-=1"
   ]
  },
  {
   "cell_type": "markdown",
   "metadata": {},
   "source": [
    "## Results"
   ]
  },
  {
   "cell_type": "code",
   "execution_count": 93,
   "metadata": {},
   "outputs": [
    {
     "name": "stdout",
     "output_type": "stream",
     "text": [
      "[0.703125, 2.109375]\n",
      "1.40625\n"
     ]
    }
   ],
   "source": [
    "finalInterval = []\n",
    "finalInterval.append(a)\n",
    "finalInterval.append(b)\n",
    "print(finalInterval)\n",
    "minimum = (a+b) / 2\n",
    "print(minimum)"
   ]
  },
  {
   "cell_type": "markdown",
   "metadata": {},
   "source": [
    "# B"
   ]
  },
  {
   "cell_type": "code",
   "execution_count": null,
   "metadata": {},
   "outputs": [],
   "source": []
  },
  {
   "cell_type": "markdown",
   "metadata": {},
   "source": [
    "# C"
   ]
  },
  {
   "cell_type": "code",
   "execution_count": null,
   "metadata": {},
   "outputs": [],
   "source": []
  }
 ],
 "metadata": {
  "kernelspec": {
   "display_name": "Python 3",
   "language": "python",
   "name": "python3"
  },
  "language_info": {
   "codemirror_mode": {
    "name": "ipython",
    "version": 3
   },
   "file_extension": ".py",
   "mimetype": "text/x-python",
   "name": "python",
   "nbconvert_exporter": "python",
   "pygments_lexer": "ipython3",
   "version": "3.13.1"
  }
 },
 "nbformat": 4,
 "nbformat_minor": 2
}
