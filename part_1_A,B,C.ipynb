{
 "cells": [
  {
   "cell_type": "markdown",
   "metadata": {},
   "source": [
    "# Imports"
   ]
  },
  {
   "cell_type": "code",
   "execution_count": 1,
   "metadata": {},
   "outputs": [],
   "source": [
    "#!pip install sympy\n",
    "import math\n",
    "import sympy as sp\n",
    "import time"
   ]
  },
  {
   "cell_type": "markdown",
   "metadata": {},
   "source": [
    "# Used in all problems"
   ]
  },
  {
   "cell_type": "code",
   "execution_count": 2,
   "metadata": {},
   "outputs": [],
   "source": [
    "a = 0\n",
    "b = 3\n",
    "interval = [a,b]\n",
    "EPSILON = 0.01\n",
    "benchMarks = {}"
   ]
  },
  {
   "cell_type": "markdown",
   "metadata": {},
   "source": [
    "# Fibonacci"
   ]
  },
  {
   "cell_type": "markdown",
   "metadata": {},
   "source": [
    "## Initialization"
   ]
  },
  {
   "cell_type": "code",
   "execution_count": 3,
   "metadata": {},
   "outputs": [
    {
     "data": {
      "text/plain": [
       "[1, 1, 2, 3, 5, 8, 13, 21, 34, 55, 89, 144, 233]"
      ]
     },
     "execution_count": 3,
     "metadata": {},
     "output_type": "execute_result"
    }
   ],
   "source": [
    "Fs = [1,1]\n",
    "maxFibonacciNumber = (interval[1]-interval[0])/EPSILON\n",
    "while Fs[-1] < maxFibonacciNumber:\n",
    "    Fs.append(Fs[-1] + Fs[-2])\n",
    "Fs.pop()\n",
    "Fs"
   ]
  },
  {
   "cell_type": "markdown",
   "metadata": {},
   "source": [
    "## Setting Initial points"
   ]
  },
  {
   "cell_type": "code",
   "execution_count": 4,
   "metadata": {},
   "outputs": [],
   "source": [
    "k = len(Fs)\n",
    "\n",
    "x1 = a + (Fs[k-3] / Fs[k-1]) * (b - a)\n",
    "x2 = a + (Fs[k-2] / Fs[k-1]) * (b - a)\n",
    "\n",
    "ITERATIONS = k - 2"
   ]
  },
  {
   "cell_type": "markdown",
   "metadata": {},
   "source": [
    "## Computing x1 and x2 in F(X)"
   ]
  },
  {
   "cell_type": "code",
   "execution_count": 5,
   "metadata": {},
   "outputs": [
    {
     "name": "stdout",
     "output_type": "stream",
     "text": [
      "[0, 1.854]\n",
      "[0.708, 1.854]\n",
      "[0.708, 1.416]\n",
      "[0.979, 1.416]\n",
      "[1.146, 1.416]\n",
      "[1.146, 1.313]\n",
      "[1.21, 1.313]\n",
      "[1.21, 1.273]\n",
      "[1.233, 1.273]\n",
      "[1.233, 1.257]\n",
      "[1.241, 1.257]\n"
     ]
    }
   ],
   "source": [
    "fibonacciStartTime = time.time()\n",
    "fibonacciIterations = 0\n",
    "for i in range(ITERATIONS):\n",
    "    fibonacciIterations+=1\n",
    "    newInterval = []\n",
    "    f_X1 = 2 * (x1)**2 - 5 * x1 + 3\n",
    "    f_X2 = 2 * (x2)**2 - 5 * x2 + 3\n",
    "    if f_X1 > f_X2:\n",
    "        a = x1\n",
    "        x1 = x2 \n",
    "        x2 = a+ (Fs[k-2]/Fs[k-1]) * (b-a)\n",
    "    else:\n",
    "        b = x2\n",
    "        x2 = x1\n",
    "        x1 = a + (Fs[k-3]/Fs[k-1]) * (b-a)\n",
    "    newInterval.append(round(a,3))\n",
    "    newInterval.append(round(b,3))\n",
    "    print(newInterval)\n",
    "    k-=1\n",
    "    if b-a <= EPSILON:\n",
    "        \n",
    "        break\n",
    "fibonacciEndTime = time.time()"
   ]
  },
  {
   "cell_type": "markdown",
   "metadata": {},
   "source": [
    "## Results"
   ]
  },
  {
   "cell_type": "code",
   "execution_count": 6,
   "metadata": {},
   "outputs": [
    {
     "name": "stdout",
     "output_type": "stream",
     "text": [
      "[1.241, 1.257]\n",
      "1.249\n",
      "-0.125\n"
     ]
    }
   ],
   "source": [
    "finalInterval = []\n",
    "finalInterval.append(round(a,3))\n",
    "finalInterval.append(round(b,3))\n",
    "print(finalInterval)\n",
    "fibonacciMinimum = (a+b) / 2\n",
    "print(round(fibonacciMinimum,3))\n",
    "fibonacciF_min = 2 * (fibonacciMinimum)**2 - 5 * fibonacciMinimum + 3\n",
    "print(round(fibonacciF_min,3))"
   ]
  },
  {
   "cell_type": "markdown",
   "metadata": {},
   "source": [
    "## Benchmark"
   ]
  },
  {
   "cell_type": "code",
   "execution_count": 7,
   "metadata": {},
   "outputs": [
    {
     "name": "stdout",
     "output_type": "stream",
     "text": [
      "Converged after 11 iterations!\n",
      "Taken: 0.000808239 Seconds\n"
     ]
    }
   ],
   "source": [
    "print(f\"Converged after {fibonacciIterations} iterations!\")\n",
    "fibonacciTakenTime = fibonacciEndTime - fibonacciStartTime\n",
    "print(f\"Taken: {round(fibonacciTakenTime,9)} Seconds\")"
   ]
  },
  {
   "cell_type": "markdown",
   "metadata": {},
   "source": [
    "## Adding to benchmark to compare later"
   ]
  },
  {
   "cell_type": "code",
   "execution_count": 8,
   "metadata": {},
   "outputs": [],
   "source": [
    "benchMarks[\"Fibonacci\"] = {\n",
    "                           \"Iterations\":fibonacciIterations,\n",
    "                           \"TimeTaken\": round(fibonacciTakenTime, 6),\n",
    "                           \"F\": round(fibonacciF_min, 3),\n",
    "                           \"X\": round(fibonacciMinimum, 3)\n",
    "                           }"
   ]
  },
  {
   "cell_type": "markdown",
   "metadata": {},
   "source": [
    "# Golden Section"
   ]
  },
  {
   "cell_type": "markdown",
   "metadata": {},
   "source": [
    "## Initialize interior Points"
   ]
  },
  {
   "cell_type": "code",
   "execution_count": 9,
   "metadata": {},
   "outputs": [],
   "source": [
    "GOLDENRATIO = (math.sqrt(5)-1) / 2\n",
    "x1 = a + (1-GOLDENRATIO) * (b - a)\n",
    "x2 = a + GOLDENRATIO * (b - a)"
   ]
  },
  {
   "cell_type": "markdown",
   "metadata": {},
   "source": [
    "## Substitute in function"
   ]
  },
  {
   "cell_type": "code",
   "execution_count": 10,
   "metadata": {},
   "outputs": [
    {
     "name": "stdout",
     "output_type": "stream",
     "text": [
      "[1.247, 1.257]\n"
     ]
    }
   ],
   "source": [
    "f_X1 = 2 * (x1)**2 - 5 * x1 + 3\n",
    "f_X2 = 2 * (x2)**2 - 5 * x2 + 3\n",
    "goldenStartTime = time.time()\n",
    "goldenIterations = 0\n",
    "while (b - a) > EPSILON:\n",
    "    goldenIterations+=1\n",
    "    currentInterval = []\n",
    "    if f_X1  < f_X2:\n",
    "        b = x2\n",
    "        x2 = x1\n",
    "        x1 = a + (1-GOLDENRATIO) * (b-a)\n",
    "    elif f_X1 > f_X2:\n",
    "        a = x1\n",
    "        x1 = x2\n",
    "        x2 = a + GOLDENRATIO * (b-a)\n",
    "    f_X1 = 2 * (x1)**2 - 5 * x1 + 3\n",
    "    f_X2 = 2 * (x2)**2 - 5 * x2 + 3\n",
    "    currentInterval.append(round(a,3))\n",
    "    currentInterval.append(round(b,3))\n",
    "    print(currentInterval)\n",
    "\n",
    "goldenEndTime = time.time()\n"
   ]
  },
  {
   "cell_type": "markdown",
   "metadata": {},
   "source": [
    "## Results"
   ]
  },
  {
   "cell_type": "code",
   "execution_count": 11,
   "metadata": {},
   "outputs": [
    {
     "name": "stdout",
     "output_type": "stream",
     "text": [
      "1.252\n",
      "-0.125\n"
     ]
    }
   ],
   "source": [
    "goldenMinimum = (a+b) / 2\n",
    "print(round(goldenMinimum,3))\n",
    "goldenF_min = 2 * (goldenMinimum)**2 - 5 * goldenMinimum + 3\n",
    "print(round(goldenF_min,3))"
   ]
  },
  {
   "cell_type": "markdown",
   "metadata": {},
   "source": [
    "## Benchmark"
   ]
  },
  {
   "cell_type": "code",
   "execution_count": 12,
   "metadata": {},
   "outputs": [
    {
     "name": "stdout",
     "output_type": "stream",
     "text": [
      "Converged after 1 iterations\n",
      "Taken: 0.000556946 Seconds\n"
     ]
    }
   ],
   "source": [
    "print(f\"Converged after {goldenIterations} iterations\")\n",
    "goldenTakenTime = goldenEndTime - goldenStartTime\n",
    "print(f\"Taken: {round(goldenTakenTime,9)} Seconds\")"
   ]
  },
  {
   "cell_type": "markdown",
   "metadata": {},
   "source": [
    "## Adding to benchmark to compare later"
   ]
  },
  {
   "cell_type": "code",
   "execution_count": 13,
   "metadata": {},
   "outputs": [],
   "source": [
    "benchMarks[\"Golden\"] = {\n",
    "                        \"Iterations\":goldenIterations,\n",
    "                        \"TimeTaken\": round(goldenTakenTime, 6),\n",
    "                        \"F\": round(goldenF_min, 3),\n",
    "                        \"X\": round(goldenMinimum, 3)\n",
    "                        }\n"
   ]
  },
  {
   "cell_type": "markdown",
   "metadata": {},
   "source": [
    "# Newton"
   ]
  },
  {
   "cell_type": "markdown",
   "metadata": {},
   "source": [
    "## Initial X and Computing 1st and 2nd derivatives"
   ]
  },
  {
   "cell_type": "code",
   "execution_count": 14,
   "metadata": {},
   "outputs": [],
   "source": [
    "xSymbol = sp.symbols('x')\n",
    "newtonF_x = 2 * (xSymbol)**2 - 5 * xSymbol + 3\n",
    "dF_x_1 = sp.diff(newtonF_x, xSymbol)\n",
    "dF_x_2 = sp.diff(dF_x_1, xSymbol)"
   ]
  },
  {
   "cell_type": "markdown",
   "metadata": {},
   "source": [
    "## Updating x"
   ]
  },
  {
   "cell_type": "code",
   "execution_count": 15,
   "metadata": {},
   "outputs": [
    {
     "name": "stdout",
     "output_type": "stream",
     "text": [
      "1.25\n"
     ]
    }
   ],
   "source": [
    "newtonX = 2\n",
    "newtonOldX = 0\n",
    "newtonIterations = 0\n",
    "# x = x - (dF_x_1/dF_x_2)\n",
    "newtonStartTime = time.time()\n",
    "while abs(newtonX-newtonOldX) > EPSILON:\n",
    "    newtonIterations+=1\n",
    "    dF_x_1_atx = dF_x_1.subs(xSymbol,newtonX)\n",
    "    dF_x_2_atx = dF_x_2.subs(xSymbol,newtonX)\n",
    "    newtonOldX = newtonX\n",
    "    newtonX = float(newtonX - (dF_x_1_atx/dF_x_2_atx))\n",
    "    print(newtonX)\n",
    "    if newtonX-newtonOldX < EPSILON:\n",
    "        \n",
    "        break\n",
    "    \n",
    "newtonEndTime = time.time()"
   ]
  },
  {
   "cell_type": "markdown",
   "metadata": {},
   "source": [
    "## Results"
   ]
  },
  {
   "cell_type": "code",
   "execution_count": 16,
   "metadata": {},
   "outputs": [
    {
     "name": "stdout",
     "output_type": "stream",
     "text": [
      "1.25\n",
      "-0.125\n"
     ]
    }
   ],
   "source": [
    "print(newtonX)\n",
    "newtonF_min = 2*(newtonX)**2 -5 * newtonX +3\n",
    "print(newtonF_min)"
   ]
  },
  {
   "cell_type": "markdown",
   "metadata": {},
   "source": [
    "## Benchmark"
   ]
  },
  {
   "cell_type": "code",
   "execution_count": 17,
   "metadata": {},
   "outputs": [
    {
     "name": "stdout",
     "output_type": "stream",
     "text": [
      "Converged after 1 iterations\n",
      "Taken: 0.0006015300750732422 Seconds\n"
     ]
    }
   ],
   "source": [
    "print(f\"Converged after {newtonIterations} iterations\")\n",
    "newtonTakenTime = newtonEndTime - newtonStartTime\n",
    "print(f\"Taken: {newtonTakenTime} Seconds\")"
   ]
  },
  {
   "cell_type": "markdown",
   "metadata": {},
   "source": [
    "## Adding to benchmark to compare later"
   ]
  },
  {
   "cell_type": "code",
   "execution_count": 18,
   "metadata": {},
   "outputs": [],
   "source": [
    "benchMarks[\"Newton\"] = {\n",
    "                        \"Iterations\":newtonIterations,\n",
    "                        \"TimeTaken\": round(newtonTakenTime, 6),\n",
    "                        \"F\": round(newtonF_min, 3),\n",
    "                        \"X\": round(newtonX, 3)\n",
    "                        }"
   ]
  },
  {
   "cell_type": "markdown",
   "metadata": {},
   "source": [
    "# Benchmarks for first three"
   ]
  },
  {
   "cell_type": "code",
   "execution_count": 19,
   "metadata": {},
   "outputs": [
    {
     "data": {
      "text/plain": [
       "{'Fibonacci': {'Iterations': 11,\n",
       "  'TimeTaken': 0.000808,\n",
       "  'F': -0.125,\n",
       "  'X': 1.249},\n",
       " 'Golden': {'Iterations': 1, 'TimeTaken': 0.000557, 'F': -0.125, 'X': 1.252},\n",
       " 'Newton': {'Iterations': 1, 'TimeTaken': 0.000602, 'F': -0.125, 'X': 1.25}}"
      ]
     },
     "execution_count": 19,
     "metadata": {},
     "output_type": "execute_result"
    }
   ],
   "source": [
    "benchMarks"
   ]
  }
 ],
 "metadata": {
  "kernelspec": {
   "display_name": "Python 3",
   "language": "python",
   "name": "python3"
  },
  "language_info": {
   "codemirror_mode": {
    "name": "ipython",
    "version": 3
   },
   "file_extension": ".py",
   "mimetype": "text/x-python",
   "name": "python",
   "nbconvert_exporter": "python",
   "pygments_lexer": "ipython3",
   "version": "3.13.1"
  }
 },
 "nbformat": 4,
 "nbformat_minor": 2
}
