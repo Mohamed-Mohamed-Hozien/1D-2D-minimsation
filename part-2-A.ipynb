{
 "cells": [
  {
   "cell_type": "code",
   "execution_count": 5,
   "metadata": {},
   "outputs": [
    {
     "name": "stdout",
     "output_type": "stream",
     "text": [
      "Rosenbrock Result: [1. 1.]\n",
      "Powell Quartic Result: [0.3178 0.3178]\n"
     ]
    }
   ],
   "source": [
    "import numpy as np\n",
    "\n",
    "# Define Rosenbrock's function\n",
    "def rosenbrock(x):\n",
    "    return sum(100.0*(x[1:]-x[:-1]**2.0)**2.0 + (1-x[:-1])**2.0)\n",
    "\n",
    "# Define Powell's quartic function\n",
    "def powell_quartic(x):\n",
    "    return sum((x[i]**4.0 - 10*x[i]**2.0 + 1)**2 for i in range(len(x)))\n",
    "\n",
    "# Gradient function to compute finite difference\n",
    "def gradient(f, x, h=1e-5):\n",
    "    n = len(x)\n",
    "    grad = np.zeros(n)\n",
    "    for i in range(n):\n",
    "        x1 = x.copy()\n",
    "        x2 = x.copy()\n",
    "        x1[i] -= h\n",
    "        x2[i] += h\n",
    "        grad[i] = (f(x2) - f(x1)) / (2 * h)\n",
    "    return grad\n",
    "\n",
    "# Fletcher-Reeves step-by-step method\n",
    "def fletcher_reeves_step_by_step(objective_func, x0, max_iter=1000, tol=1e-6):\n",
    "    # Line search to find optimal step length\n",
    "    def line_search(f, x, d):\n",
    "        alpha = 1.0\n",
    "        rho = 0.5\n",
    "        c = 1e-4\n",
    "        while f(x + alpha * d) > f(x) + c * alpha * np.dot(gradient(f, x), d):\n",
    "            alpha *= rho\n",
    "        return alpha\n",
    "\n",
    "    x = x0\n",
    "    g = gradient(objective_func, x)\n",
    "    d = -g\n",
    "\n",
    "    while np.linalg.norm(g) > tol:\n",
    "        alpha = line_search(objective_func, x, d)\n",
    "        x = x + alpha * d\n",
    "\n",
    "        g_new = gradient(objective_func, x)\n",
    "        beta = np.dot(g_new, g_new) / np.dot(g, g)\n",
    "        d = -g_new + beta * d\n",
    "        g = g_new\n",
    "\n",
    "    return np.round(x, 4)\n",
    "\n",
    "# Example usage with Rosenbrock and Powell's Quartic functions\n",
    "x0_rosenbrock = np.array([1.5, 1.5])\n",
    "x0_powell = np.array([1.5, 1.5])\n",
    "\n",
    "rosenbrock_result = fletcher_reeves_step_by_step(rosenbrock, x0_rosenbrock)\n",
    "powell_result = fletcher_reeves_step_by_step(powell_quartic, x0_powell)\n",
    "\n",
    "print(\"Rosenbrock Result:\", rosenbrock_result)\n",
    "print(\"Powell Quartic Result:\", powell_result)\n"
   ]
  },
  {
   "cell_type": "code",
   "execution_count": 8,
   "metadata": {},
   "outputs": [
    {
     "name": "stdout",
     "output_type": "stream",
     "text": [
      "Powell's Quartic Solution: [-0.31783718 -0.31783718]\n",
      "Powell's Quartic Info: {'status': 'converged', 'iterations': 26, 'cost': 3.7821679767702097e-13}\n"
     ]
    }
   ],
   "source": [
    "\n",
    "\n",
    "\n",
    "def marquardt_method(f, grad_f, x0, tol=1e-6, max_iter=100, lambda_init=1e-3):\n",
    "    x = np.array(x0, dtype=float) \n",
    "    lambda_ = lambda_init \n",
    "\n",
    "    for iteration in range(max_iter):\n",
    "        grad = grad_f(f, x)  \n",
    "        H = np.eye(len(x)) + lambda_ * np.eye(len(x))  \n",
    "\n",
    "        try:\n",
    "            delta_x = np.linalg.solve(H, -grad) \n",
    "        except np.linalg.LinAlgError:\n",
    "            raise ValueError(\"Singular matrix encountered in solving linear system.\")\n",
    "\n",
    "        x_new = x + delta_x\n",
    "        cost = f(x)\n",
    "        cost_new = f(x_new)\n",
    "\n",
    "        if np.linalg.norm(delta_x) < tol:\n",
    "            return x_new, {\"status\": \"converged\", \"iterations\": iteration + 1, \"cost\": cost_new}\n",
    "\n",
    "        if cost_new < cost:\n",
    "            x = x_new\n",
    "            lambda_ /= 10\n",
    "        else:\n",
    "            lambda_ *= 10\n",
    "\n",
    "    return x, {\"status\": \"max_iter_exceeded\", \"iterations\": max_iter, \"cost\": f(x)}\n",
    "\n",
    "x0_powell = [1.5, 1.5]\n",
    "\n",
    "solution_powell, info_powell = marquardt_method(\n",
    "    powell_quartic,\n",
    "    gradient,\n",
    "    x0_powell\n",
    ")\n",
    "\n",
    "# Print results\n",
    "print(\"Powell's Quartic Solution:\", solution_powell)\n",
    "print(\"Powell's Quartic Info:\", info_powell)\n"
   ]
  },
  {
   "cell_type": "code",
   "execution_count": null,
   "metadata": {},
   "outputs": [
    {
     "name": "stdout",
     "output_type": "stream",
     "text": [
      "Rosenbrock Solution: [0.99999998 0.99999996]\n",
      "Rosenbrock Info: {'status': 'converged', 'iterations': 34, 'grad_norm': 3.482770683606661e-09}\n",
      "Powell's Quartic Solution: [ 3.14626437  0.31783724  0.         -0.31783725]\n",
      "Powell's Quartic Info: {'status': 'converged', 'iterations': 15, 'grad_norm': 8.920314502476037e-07}\n"
     ]
    }
   ],
   "source": [
    "import numpy as np\n",
    "\n",
    "\n",
    "def quasi_newton_method(f, grad_f, x0, tol=1e-6, max_iter=100):\n",
    "    \n",
    "    x = np.array(x0, dtype=float)\n",
    "    n = len(x)\n",
    "    H = np.eye(n)\n",
    "\n",
    "    for iteration in range(max_iter):\n",
    "        grad = grad_f(f, x)\n",
    "        if np.linalg.norm(grad) < tol:\n",
    "            return x, {\"status\": \"converged\", \"iterations\": iteration, \"grad_norm\": np.linalg.norm(grad)}\n",
    "\n",
    "        p = -H @ grad\n",
    "        alpha = 1.0\n",
    "        while f(x + alpha * p) > f(x) + 1e-4 * alpha * grad.dot(p):\n",
    "            alpha *= 0.5\n",
    "\n",
    "        x_new = x + alpha * p\n",
    "        grad_new = grad_f(f, x_new)\n",
    "        s = x_new - x\n",
    "        y = grad_new - grad\n",
    "\n",
    "        rho = 1.0 / (y.dot(s))\n",
    "        if np.isfinite(rho):\n",
    "            I = np.eye(n)\n",
    "            H = (I - rho * np.outer(s, y)) @ H @ (I - rho * np.outer(y, s)) + rho * np.outer(s, s)\n",
    "\n",
    "        x = x_new\n",
    "\n",
    "    return x, {\"status\": \"max_iter_exceeded\", \"iterations\": max_iter, \"grad_norm\": np.linalg.norm(grad)}\n",
    "\n",
    "if __name__ == \"__main__\":\n",
    "\n",
    "    x0_rosenbrock = [-1.2, 1.0]\n",
    "    solution_rosenbrock, info_rosenbrock = quasi_newton_method(rosenbrock, gradient, x0_rosenbrock)\n",
    "    print(\"Rosenbrock Solution:\", solution_rosenbrock)\n",
    "    print(\"Rosenbrock Info:\", info_rosenbrock)\n",
    "\n",
    "    x0_powell = [3.0, -1.0, 0.0, 1.0]\n",
    "    solution_powell, info_powell = quasi_newton_method(powell_quartic, gradient, x0_powell)\n",
    "    print(\"Powell's Quartic Solution:\", solution_powell)\n",
    "    print(\"Powell's Quartic Info:\", info_powell)\n"
   ]
  },
  {
   "cell_type": "code",
   "execution_count": null,
   "metadata": {},
   "outputs": [],
   "source": []
  },
  {
   "cell_type": "code",
   "execution_count": null,
   "metadata": {},
   "outputs": [],
   "source": []
  }
 ],
 "metadata": {
  "kernelspec": {
   "display_name": "base",
   "language": "python",
   "name": "python3"
  },
  "language_info": {
   "codemirror_mode": {
    "name": "ipython",
    "version": 3
   },
   "file_extension": ".py",
   "mimetype": "text/x-python",
   "name": "python",
   "nbconvert_exporter": "python",
   "pygments_lexer": "ipython3",
   "version": "3.11.5"
  }
 },
 "nbformat": 4,
 "nbformat_minor": 2
}
